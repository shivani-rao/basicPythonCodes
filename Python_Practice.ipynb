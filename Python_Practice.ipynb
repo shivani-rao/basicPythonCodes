{
  "nbformat": 4,
  "nbformat_minor": 0,
  "metadata": {
    "colab": {
      "provenance": [],
      "authorship_tag": "ABX9TyPIWnTxBVACUlBT734wTqBW",
      "include_colab_link": true
    },
    "kernelspec": {
      "name": "python3",
      "display_name": "Python 3"
    },
    "language_info": {
      "name": "python"
    }
  },
  "cells": [
    {
      "cell_type": "markdown",
      "metadata": {
        "id": "view-in-github",
        "colab_type": "text"
      },
      "source": [
        "<a href=\"https://colab.research.google.com/github/shivani-rao/basicPythonCodes/blob/master/Python_Practice.ipynb\" target=\"_parent\"><img src=\"https://colab.research.google.com/assets/colab-badge.svg\" alt=\"Open In Colab\"/></a>"
      ]
    },
    {
      "cell_type": "markdown",
      "source": [
        "Find smallest positive missing number from given list\n",
        "\n"
      ],
      "metadata": {
        "id": "DKntfZ9VkJ3F"
      }
    },
    {
      "cell_type": "code",
      "execution_count": null,
      "metadata": {
        "colab": {
          "base_uri": "https://localhost:8080/"
        },
        "id": "UAhXnEe5kBaS",
        "outputId": "ed0793e3-b899-44d9-b070-d3ff143c881c"
      },
      "outputs": [
        {
          "output_type": "stream",
          "name": "stdout",
          "text": [
            "2\n"
          ]
        }
      ],
      "source": [
        "def findnum (a):\n",
        "  m=max(a)\n",
        "  if m<1:\n",
        "    return 1\n",
        "  if len(a)==1:\n",
        "    return 2 if a[0]==1 else 1\n",
        "  l=[0]*m\n",
        "  for i in range(len(a)):\n",
        "    if a[i]>0:\n",
        "      if l[a[i]-1]!=1:\n",
        "        l[a[i]-1]=1\n",
        "  for i in range(len(l)):\n",
        "    if l[i]==0:\n",
        "      return i+1\n",
        "  return i+2\n",
        "\n",
        "\n",
        "\n",
        "\n",
        "arr=[1,5,-7,3,-2,9]\n",
        "result=findnum(arr)\n",
        "print(result)"
      ]
    },
    {
      "cell_type": "markdown",
      "source": [
        "Reverse string"
      ],
      "metadata": {
        "id": "UMsexqJvMjgL"
      }
    },
    {
      "cell_type": "code",
      "source": [
        "def reverse(string):\n",
        "  str=\"\"\n",
        "  for i in string:\n",
        "    str=i+str\n",
        "    print(str)\n",
        "  return str\n",
        "\n",
        "print(reverse(\"Shivani\"))\n",
        "\n",
        "\n",
        "#Alternate way\n",
        "string=\"shivani\"\n",
        "print(string[::-1]) #string slicing"
      ],
      "metadata": {
        "colab": {
          "base_uri": "https://localhost:8080/"
        },
        "id": "9aynSxkYMlk0",
        "outputId": "f660d888-dddf-4825-da3f-67d4645cbddd"
      },
      "execution_count": 60,
      "outputs": [
        {
          "output_type": "stream",
          "name": "stdout",
          "text": [
            "S\n",
            "hS\n",
            "ihS\n",
            "vihS\n",
            "avihS\n",
            "navihS\n",
            "inavihS\n",
            "inavihS\n",
            "inavihs\n"
          ]
        }
      ]
    },
    {
      "cell_type": "markdown",
      "source": [
        "Given an array of integers, return indices of the two numbers such that they add up to a specific target."
      ],
      "metadata": {
        "id": "JFKr7VXtobgG"
      }
    },
    {
      "cell_type": "code",
      "source": [
        "def twosum(num,target):\n",
        "  d={}\n",
        "  for i in range(len(num)):\n",
        "    temp=target-num[i]\n",
        "    if temp in dict:\n",
        "      return[dict[temp],i]\n",
        "    dict.update({num[i]:i})\n",
        "\n",
        "answer=twosum([3,2,1,5,6], 8) # [0,3]\n",
        "print(answer)"
      ],
      "metadata": {
        "colab": {
          "base_uri": "https://localhost:8080/"
        },
        "id": "FNCkmjjDnDbw",
        "outputId": "aad8127c-4787-4afb-875d-a8095e657b4a"
      },
      "execution_count": null,
      "outputs": [
        {
          "output_type": "stream",
          "name": "stdout",
          "text": [
            "[0, 3]\n"
          ]
        }
      ]
    },
    {
      "cell_type": "markdown",
      "source": [
        "Find out the duplicate characters with their count of occurrence in the same order.\n"
      ],
      "metadata": {
        "id": "qqaGiTHyo_1K"
      }
    },
    {
      "cell_type": "code",
      "source": [
        "from collections import OrderedDict\n",
        "def dup_char(str):\n",
        "  char=OrderedDict()\n",
        "  for i in str:\n",
        "    if i in char:\n",
        "      char[i]+=1\n",
        "    else:\n",
        "      char[i]=1\n",
        "  #return char\n",
        "  '''\n",
        "  dict_dup=OrderedDict()\n",
        "  for j,count in char.items():\n",
        "    if count>1:\n",
        "      dict_dup[j]=count\n",
        "  return dict_dup\n",
        "  '''\n",
        "  #using dictionary comprehension\n",
        "  duplicates={alph:count for alph,count in char.items() if count>1 }\n",
        "  return duplicates\n",
        "\n",
        "str=\"prroooggming\"\n",
        "result=dup_char(str)\n",
        "print(result)"
      ],
      "metadata": {
        "colab": {
          "base_uri": "https://localhost:8080/"
        },
        "id": "E0ORY1-prdLv",
        "outputId": "fa0cce63-14c0-41ef-b2d1-644a54eeedf7"
      },
      "execution_count": null,
      "outputs": [
        {
          "output_type": "stream",
          "name": "stdout",
          "text": [
            "{'r': 2, 'o': 3, 'g': 3}\n"
          ]
        }
      ]
    },
    {
      "cell_type": "markdown",
      "source": [
        "Find of count of each letter from a given string"
      ],
      "metadata": {
        "id": "B5wi7IoYrdzh"
      }
    },
    {
      "cell_type": "code",
      "source": [
        "input=\"progrrammiiing\"\n",
        "dict={}\n",
        "for i in input:\n",
        "\tif i in dict:\n",
        "\t\tdict[i]+=1\n",
        "\telse :\n",
        "\t\tdict[i] = 1\n",
        "print(dict)\n",
        "max_char=max(dict,key=dict.get) #Max repeated char\n",
        "print(max_char)"
      ],
      "metadata": {
        "colab": {
          "base_uri": "https://localhost:8080/"
        },
        "id": "icNwG7P_pEjd",
        "outputId": "88928ead-76b6-40b3-ff23-bc8d49771e45"
      },
      "execution_count": null,
      "outputs": [
        {
          "output_type": "stream",
          "name": "stdout",
          "text": [
            "{'p': 1, 'r': 3, 'o': 1, 'g': 2, 'a': 1, 'm': 2, 'i': 3, 'n': 1}\n",
            "r\n"
          ]
        }
      ]
    },
    {
      "cell_type": "markdown",
      "source": [
        "Find out the count of each word in a given sentance."
      ],
      "metadata": {
        "id": "lnqjFsxiqw1O"
      }
    },
    {
      "cell_type": "code",
      "source": [
        "input=\"shivani is learning python . python is easy to learn\"\n",
        "word=input.split( )\n",
        "dict={}\n",
        "for i in word:\n",
        "  if i in dict:\n",
        "    dict[i]+=1\n",
        "  else:\n",
        "    dict[i]=1\n",
        "print(dict)\n"
      ],
      "metadata": {
        "id": "iW4VdOe2pPub",
        "colab": {
          "base_uri": "https://localhost:8080/"
        },
        "outputId": "a36d63ff-5159-46a1-bbb8-7fb7f54d0655"
      },
      "execution_count": null,
      "outputs": [
        {
          "output_type": "stream",
          "name": "stdout",
          "text": [
            "{'shivani': 1, 'is': 2, 'learning': 1, 'python': 2, '.': 1, 'easy': 1, 'to': 1, 'learn': 1}\n"
          ]
        }
      ]
    },
    {
      "cell_type": "markdown",
      "source": [
        "Find common letters between two strings."
      ],
      "metadata": {
        "id": "O5LbT_2tzlB0"
      }
    },
    {
      "cell_type": "code",
      "source": [
        "input1=\"shivani\"\n",
        "input2=\"nandini\"\n",
        "#set removes duplicates\n",
        "s1=set(input1)\n",
        "s2=set(input2)\n",
        "# & operator extracts common letters from 2 strings\n",
        "out=s1 & s2\n",
        "print(out)"
      ],
      "metadata": {
        "colab": {
          "base_uri": "https://localhost:8080/"
        },
        "id": "CU_NAcrvzH5H",
        "outputId": "7a0d771e-35f9-4d9c-a47a-37cae608d0f0"
      },
      "execution_count": null,
      "outputs": [
        {
          "output_type": "stream",
          "name": "stdout",
          "text": [
            "{'a', 'n', 'i'}\n"
          ]
        }
      ]
    },
    {
      "cell_type": "markdown",
      "source": [
        "convert two list into Dictionary"
      ],
      "metadata": {
        "id": "Fj5XwM7y0tkn"
      }
    },
    {
      "cell_type": "code",
      "source": [
        "lst1=[1,2,3]\n",
        "lst2=[\"one\",\"two\",\"three\"]\n",
        "out= dict(zip(lst1,lst2))\n",
        "print(out)"
      ],
      "metadata": {
        "colab": {
          "base_uri": "https://localhost:8080/",
          "height": 193
        },
        "id": "3z50OQ-20ysk",
        "outputId": "057d23ca-83ed-4da4-ce8b-d2d17a92408b"
      },
      "execution_count": null,
      "outputs": [
        {
          "output_type": "error",
          "ename": "TypeError",
          "evalue": "'dict' object is not callable",
          "traceback": [
            "\u001b[0;31m---------------------------------------------------------------------------\u001b[0m",
            "\u001b[0;31mTypeError\u001b[0m                                 Traceback (most recent call last)",
            "\u001b[0;32m<ipython-input-32-2ec47b64a1f9>\u001b[0m in \u001b[0;36m<cell line: 3>\u001b[0;34m()\u001b[0m\n\u001b[1;32m      1\u001b[0m \u001b[0mlst1\u001b[0m\u001b[0;34m=\u001b[0m\u001b[0;34m[\u001b[0m\u001b[0;36m1\u001b[0m\u001b[0;34m,\u001b[0m\u001b[0;36m2\u001b[0m\u001b[0;34m,\u001b[0m\u001b[0;36m3\u001b[0m\u001b[0;34m]\u001b[0m\u001b[0;34m\u001b[0m\u001b[0;34m\u001b[0m\u001b[0m\n\u001b[1;32m      2\u001b[0m \u001b[0mlst2\u001b[0m\u001b[0;34m=\u001b[0m\u001b[0;34m[\u001b[0m\u001b[0;34m\"one\"\u001b[0m\u001b[0;34m,\u001b[0m\u001b[0;34m\"two\"\u001b[0m\u001b[0;34m,\u001b[0m\u001b[0;34m\"three\"\u001b[0m\u001b[0;34m]\u001b[0m\u001b[0;34m\u001b[0m\u001b[0;34m\u001b[0m\u001b[0m\n\u001b[0;32m----> 3\u001b[0;31m \u001b[0mout\u001b[0m\u001b[0;34m=\u001b[0m \u001b[0mdict\u001b[0m\u001b[0;34m(\u001b[0m\u001b[0mzip\u001b[0m\u001b[0;34m(\u001b[0m\u001b[0mlst1\u001b[0m\u001b[0;34m,\u001b[0m\u001b[0mlst2\u001b[0m\u001b[0;34m)\u001b[0m\u001b[0;34m)\u001b[0m\u001b[0;34m\u001b[0m\u001b[0;34m\u001b[0m\u001b[0m\n\u001b[0m\u001b[1;32m      4\u001b[0m \u001b[0mprint\u001b[0m\u001b[0;34m(\u001b[0m\u001b[0mout\u001b[0m\u001b[0;34m)\u001b[0m\u001b[0;34m\u001b[0m\u001b[0;34m\u001b[0m\u001b[0m\n",
            "\u001b[0;31mTypeError\u001b[0m: 'dict' object is not callable"
          ]
        }
      ]
    },
    {
      "cell_type": "markdown",
      "source": [
        "Generate an infinite Fibonacci series using a generator"
      ],
      "metadata": {
        "id": "RxIuZSuU2Env"
      }
    },
    {
      "cell_type": "code",
      "source": [
        "def fibonacci():\n",
        "  a,b =0,1\n",
        "  while True:\n",
        "    yield a\n",
        "    a,b=b,a+b\n",
        "f=fibonacci()\n",
        "for i in range(10):\n",
        "  print(next(f))"
      ],
      "metadata": {
        "colab": {
          "base_uri": "https://localhost:8080/"
        },
        "id": "8MoVRoxR7yCG",
        "outputId": "a5b77f7e-2b7d-4eae-ebc2-d717f9dea413"
      },
      "execution_count": null,
      "outputs": [
        {
          "output_type": "stream",
          "name": "stdout",
          "text": [
            "0\n",
            "1\n",
            "1\n",
            "2\n",
            "3\n",
            "5\n",
            "8\n",
            "13\n",
            "21\n",
            "34\n"
          ]
        }
      ]
    },
    {
      "cell_type": "markdown",
      "source": [
        "Sort a list without using the keyword Sort."
      ],
      "metadata": {
        "id": "DpvR_hbI8ymB"
      }
    },
    {
      "cell_type": "code",
      "source": [
        "list1=[41,2,7,9,6,35,10]\n",
        "n=len(list1)\n",
        "\n",
        "for i in range(n):\n",
        "  for j in range(i+1,n):\n",
        "    if list1[i]>list1[j]:\n",
        "      list1[i],list1[j]=list1[j],list1[i]\n",
        "\n",
        "print(list1)"
      ],
      "metadata": {
        "colab": {
          "base_uri": "https://localhost:8080/"
        },
        "id": "JBaDtAgL82GF",
        "outputId": "c5f9ac60-340c-49ac-f2cc-e6d90c08f8e4"
      },
      "execution_count": null,
      "outputs": [
        {
          "output_type": "stream",
          "name": "stdout",
          "text": [
            "[2, 6, 7, 9, 10, 35, 41]\n"
          ]
        }
      ]
    },
    {
      "cell_type": "markdown",
      "source": [
        "Check whether string is palindrome or not!"
      ],
      "metadata": {
        "id": "O8-DxuSi-JWf"
      }
    },
    {
      "cell_type": "code",
      "source": [
        "s=\"shivani rao\"\n",
        "print(s[::-1])\n",
        "if s==s[::-1]:\n",
        "  print(\"palindrome\")\n",
        "else:\n",
        "  print(\"not palindrome\")\n",
        "\n",
        "#Alternate way\n",
        "n=len(s)\n",
        "x=0\n",
        "for i in range(n):\n",
        "  if s[i]!=s[n-i-1]:\n",
        "    x=1\n",
        "    break\n",
        "if x==0:\n",
        "  print(\"palindrome\")\n",
        "else:\n",
        "  print(\"not palindrome\")\n"
      ],
      "metadata": {
        "colab": {
          "base_uri": "https://localhost:8080/"
        },
        "id": "LTFR8Ths9vVr",
        "outputId": "1480b271-fc3d-462f-dc17-32832b046d2b"
      },
      "execution_count": null,
      "outputs": [
        {
          "output_type": "stream",
          "name": "stdout",
          "text": [
            "oar inavihs\n",
            "not palindrome\n",
            "not palindrome\n"
          ]
        }
      ]
    },
    {
      "cell_type": "markdown",
      "source": [
        "Sort a dicitonary / dict comprehension"
      ],
      "metadata": {
        "id": "ok3e6_8x_iH5"
      }
    },
    {
      "cell_type": "code",
      "source": [
        "dict={132:\"Apple\",150:\"Grapes\",100: \"Banana\"}\n",
        "#sort by value\n",
        "sorted_dict_value={k:v for k,v in sorted(dict.items(),key=lambda item:item[1])}\n",
        "print(sorted_dict_value)\n",
        "\n",
        "#sort by keys\n",
        "sorted_dict_keys={k:v for k,v in sorted(dict.items(),key=lambda item:item[0])}\n",
        "print(sorted_dict_keys)\n",
        "\n",
        "#Alternate way\n",
        "d=sorted(dict.keys())\n",
        "dict2={}\n",
        "for i in d:\n",
        "  dict2[i]=dict[i]\n",
        "print(dict2)\n",
        "\n",
        "\n"
      ],
      "metadata": {
        "colab": {
          "base_uri": "https://localhost:8080/"
        },
        "id": "PwekXTkQ_rM5",
        "outputId": "acc8baca-aca8-43f6-9eb9-f1b93ddb10e0"
      },
      "execution_count": null,
      "outputs": [
        {
          "output_type": "stream",
          "name": "stdout",
          "text": [
            "{132: 'Apple', 100: 'Banana', 150: 'Grapes'}\n",
            "{100: 'Banana', 132: 'Apple', 150: 'Grapes'}\n",
            "{100: 'Banana', 132: 'Apple', 150: 'Grapes'}\n"
          ]
        }
      ]
    },
    {
      "cell_type": "markdown",
      "source": [
        "Find the pair with a given number in a list. two elements sum to the given number."
      ],
      "metadata": {
        "id": "qsGXPzZSBQcp"
      }
    },
    {
      "cell_type": "code",
      "source": [
        "list1=[1,2,3,4,5,6,7,8,9]\n",
        "n=len(list1)\n",
        "k=10\n",
        "for i in range(n):\n",
        "  for j in range(i+1,n):\n",
        "    if list1[i]+list1[j]==k:\n",
        "      print(list1[i],list1[j])"
      ],
      "metadata": {
        "colab": {
          "base_uri": "https://localhost:8080/"
        },
        "id": "-2MDhmzOB3f7",
        "outputId": "9538d95f-b1dd-40ec-d9f2-9399be1ecbe8"
      },
      "execution_count": null,
      "outputs": [
        {
          "output_type": "stream",
          "name": "stdout",
          "text": [
            "1 9\n",
            "2 8\n",
            "3 7\n",
            "4 6\n"
          ]
        }
      ]
    },
    {
      "cell_type": "markdown",
      "source": [
        "Create a Fibonacci series using recursion."
      ],
      "metadata": {
        "id": "zi26-OgwCNIP"
      }
    },
    {
      "cell_type": "code",
      "source": [
        "def fibonacci(n):\n",
        "  if n<=1:\n",
        "    return n\n",
        "  else:\n",
        "    return fibonacci(n-1)+fibonacci(n-2)\n",
        "for i in range(10):\n",
        "  print(fibonacci(i))"
      ],
      "metadata": {
        "colab": {
          "base_uri": "https://localhost:8080/"
        },
        "id": "aL5PhMhGCLMd",
        "outputId": "fe86cafb-5fce-4544-8b71-e420968cdf0e"
      },
      "execution_count": null,
      "outputs": [
        {
          "output_type": "stream",
          "name": "stdout",
          "text": [
            "0\n",
            "1\n",
            "1\n",
            "2\n",
            "3\n",
            "5\n",
            "8\n",
            "13\n",
            "21\n",
            "34\n"
          ]
        }
      ]
    },
    {
      "cell_type": "markdown",
      "source": [
        "String manipulation. \"The Sky is Blue\" to \"Blue is The Sky\""
      ],
      "metadata": {
        "id": "ZTyIwjjLC5qD"
      }
    },
    {
      "cell_type": "code",
      "source": [
        "s=\"The Sky is Blue\"\n",
        "l=s.split()[::-1]\n",
        "print(\" \".join(l))  #joins the elements of the list l into a single string with each word separated by a space."
      ],
      "metadata": {
        "colab": {
          "base_uri": "https://localhost:8080/"
        },
        "id": "ksqFIBTRClDu",
        "outputId": "99eb09d4-1dd4-4444-e475-ee0b12a74ff1"
      },
      "execution_count": null,
      "outputs": [
        {
          "output_type": "stream",
          "name": "stdout",
          "text": [
            "Blue is Sky The\n"
          ]
        }
      ]
    },
    {
      "cell_type": "markdown",
      "source": [
        "Remove Punctuation(except spaces)"
      ],
      "metadata": {
        "id": "WsByjdY4EM2V"
      }
    },
    {
      "cell_type": "code",
      "source": [
        "str1=\"Hello, World!\"\n",
        "s=''\n",
        "for i in str1:\n",
        "  if((i >= 'a' and i <= 'z') or (i >= 'A' and i <= 'Z') | (i==' ')):\n",
        "    s=s+i\n",
        "print(s)"
      ],
      "metadata": {
        "colab": {
          "base_uri": "https://localhost:8080/"
        },
        "id": "GIZAAe91EcgI",
        "outputId": "f05cdbce-53ce-4c67-9944-d33c92defa9a"
      },
      "execution_count": null,
      "outputs": [
        {
          "output_type": "stream",
          "name": "stdout",
          "text": [
            "Hello World\n"
          ]
        }
      ]
    },
    {
      "cell_type": "markdown",
      "source": [
        "Find a maximum and minimum value in a List without using any predefined function."
      ],
      "metadata": {
        "id": "RBa4jWVmFurs"
      }
    },
    {
      "cell_type": "code",
      "source": [
        "l=[9,11,10,5,4,70,2]\n",
        "max=l[0]\n",
        "min=l[0]\n",
        "for i in range(len(l)):\n",
        "  if l[i]>max:\n",
        "    max=l[i]\n",
        "  if l[i]<min:\n",
        "    min=l[i]\n",
        "print(max,min)"
      ],
      "metadata": {
        "colab": {
          "base_uri": "https://localhost:8080/"
        },
        "id": "BXnHcMmZFxzO",
        "outputId": "5e086267-e173-41c5-aedf-5fea98582f50"
      },
      "execution_count": null,
      "outputs": [
        {
          "output_type": "stream",
          "name": "stdout",
          "text": [
            "70 2\n"
          ]
        }
      ]
    },
    {
      "cell_type": "markdown",
      "source": [
        "Write a code to raise an exception."
      ],
      "metadata": {
        "id": "hQzQ_Il2GTZa"
      }
    },
    {
      "cell_type": "code",
      "source": [
        "l=[1,2,3,4]\n",
        "sum=0\n",
        "for i in l:\n",
        "  if i==1:\n",
        "    raise Exception(\"Exception : 1 is found\")\n",
        "  sum+=i\n",
        "print(sum)"
      ],
      "metadata": {
        "colab": {
          "base_uri": "https://localhost:8080/",
          "height": 211
        },
        "id": "SPrDDCDoGERn",
        "outputId": "0e6d9eab-feb4-4a6d-dfc0-8cc6b5840197"
      },
      "execution_count": null,
      "outputs": [
        {
          "output_type": "error",
          "ename": "Exception",
          "evalue": "Exception : 1 is found",
          "traceback": [
            "\u001b[0;31m---------------------------------------------------------------------------\u001b[0m",
            "\u001b[0;31mException\u001b[0m                                 Traceback (most recent call last)",
            "\u001b[0;32m<ipython-input-58-8a40551a66bc>\u001b[0m in \u001b[0;36m<cell line: 3>\u001b[0;34m()\u001b[0m\n\u001b[1;32m      3\u001b[0m \u001b[0;32mfor\u001b[0m \u001b[0mi\u001b[0m \u001b[0;32min\u001b[0m \u001b[0ml\u001b[0m\u001b[0;34m:\u001b[0m\u001b[0;34m\u001b[0m\u001b[0;34m\u001b[0m\u001b[0m\n\u001b[1;32m      4\u001b[0m   \u001b[0;32mif\u001b[0m \u001b[0mi\u001b[0m\u001b[0;34m==\u001b[0m\u001b[0;36m1\u001b[0m\u001b[0;34m:\u001b[0m\u001b[0;34m\u001b[0m\u001b[0;34m\u001b[0m\u001b[0m\n\u001b[0;32m----> 5\u001b[0;31m     \u001b[0;32mraise\u001b[0m \u001b[0mException\u001b[0m\u001b[0;34m(\u001b[0m\u001b[0;34m\"Exception : 1 is found\"\u001b[0m\u001b[0;34m)\u001b[0m\u001b[0;34m\u001b[0m\u001b[0;34m\u001b[0m\u001b[0m\n\u001b[0m\u001b[1;32m      6\u001b[0m   \u001b[0msum\u001b[0m\u001b[0;34m+=\u001b[0m\u001b[0mi\u001b[0m\u001b[0;34m\u001b[0m\u001b[0;34m\u001b[0m\u001b[0m\n\u001b[1;32m      7\u001b[0m \u001b[0mprint\u001b[0m\u001b[0;34m(\u001b[0m\u001b[0msum\u001b[0m\u001b[0;34m)\u001b[0m\u001b[0;34m\u001b[0m\u001b[0;34m\u001b[0m\u001b[0m\n",
            "\u001b[0;31mException\u001b[0m: Exception : 1 is found"
          ]
        }
      ]
    },
    {
      "cell_type": "code",
      "source": [],
      "metadata": {
        "id": "p787NBneGQh7"
      },
      "execution_count": null,
      "outputs": []
    }
  ]
}