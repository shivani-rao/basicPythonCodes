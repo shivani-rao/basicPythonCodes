{
  "nbformat": 4,
  "nbformat_minor": 0,
  "metadata": {
    "colab": {
      "provenance": [],
      "authorship_tag": "ABX9TyNNUlD3/+68ltZlD53TXbAm",
      "include_colab_link": true
    },
    "kernelspec": {
      "name": "python3",
      "display_name": "Python 3"
    },
    "language_info": {
      "name": "python"
    }
  },
  "cells": [
    {
      "cell_type": "markdown",
      "metadata": {
        "id": "view-in-github",
        "colab_type": "text"
      },
      "source": [
        "<a href=\"https://colab.research.google.com/github/shivani-rao/basicPythonCodes/blob/master/Python_Tutorial.ipynb\" target=\"_parent\"><img src=\"https://colab.research.google.com/assets/colab-badge.svg\" alt=\"Open In Colab\"/></a>"
      ]
    },
    {
      "cell_type": "markdown",
      "source": [
        "**PYTHON** **TUTORIAL**"
      ],
      "metadata": {
        "id": "ItGCxD-DJVwx"
      }
    },
    {
      "cell_type": "code",
      "execution_count": null,
      "metadata": {
        "colab": {
          "base_uri": "https://localhost:8080/"
        },
        "id": "Cyrq-WOyHNBI",
        "outputId": "8e7111c5-accc-4bb0-8b1b-ea869f05d31e"
      },
      "outputs": [
        {
          "output_type": "stream",
          "name": "stdout",
          "text": [
            "Hello Shivani , Welcome to Data World!\n"
          ]
        }
      ],
      "source": [
        "print(\"Hello Shivani , Welcome to Data World!\")"
      ]
    },
    {
      "cell_type": "markdown",
      "source": [
        "Data Types : Integer,Float,String,Boolean\n"
      ],
      "metadata": {
        "id": "7hFqERyEIwWj"
      }
    },
    {
      "cell_type": "markdown",
      "source": [
        "Operators : + , -,*,/,==,<>,!=,AND,OR,NOT"
      ],
      "metadata": {
        "id": "uJctCgG0Jtfc"
      }
    },
    {
      "cell_type": "markdown",
      "source": [
        "Control Structures : if statement , For loops , while loops"
      ],
      "metadata": {
        "id": "32ZGAB7wKcWi"
      }
    },
    {
      "cell_type": "code",
      "source": [
        "num=7\n",
        "if num >10:\n",
        "  print(\"True\")\n",
        "else :\n",
        "  print(\"False\")"
      ],
      "metadata": {
        "colab": {
          "base_uri": "https://localhost:8080/"
        },
        "id": "pDxMcDCoLAWb",
        "outputId": "429ef84b-d5a6-4d32-8c6b-387534a02f88"
      },
      "execution_count": null,
      "outputs": [
        {
          "output_type": "stream",
          "name": "stdout",
          "text": [
            "False\n"
          ]
        }
      ]
    },
    {
      "cell_type": "code",
      "source": [
        "for i in range(5):\n",
        "  print(i)\n"
      ],
      "metadata": {
        "colab": {
          "base_uri": "https://localhost:8080/"
        },
        "id": "Dn8-EJMNLVJS",
        "outputId": "871c2646-df25-4570-84cf-3f5a921073be"
      },
      "execution_count": null,
      "outputs": [
        {
          "output_type": "stream",
          "name": "stdout",
          "text": [
            "0\n",
            "1\n",
            "2\n",
            "3\n",
            "4\n"
          ]
        }
      ]
    },
    {
      "cell_type": "code",
      "source": [
        "num =5\n",
        "while num >=0 :\n",
        "  print(num)\n",
        "  num=num-1\n"
      ],
      "metadata": {
        "colab": {
          "base_uri": "https://localhost:8080/"
        },
        "id": "dgVNkeOILflK",
        "outputId": "5ffe781b-fbb0-487f-e513-5decf02dc662"
      },
      "execution_count": null,
      "outputs": [
        {
          "output_type": "stream",
          "name": "stdout",
          "text": [
            "5\n",
            "4\n",
            "3\n",
            "2\n",
            "1\n",
            "0\n"
          ]
        }
      ]
    },
    {
      "cell_type": "markdown",
      "source": [
        "Functions in python"
      ],
      "metadata": {
        "id": "Ha7OwR7WMJ7C"
      }
    },
    {
      "cell_type": "code",
      "source": [
        "def greet(name):\n",
        "  print(\"Hello \" + name +\" , Welcome to New Notebook\")\n",
        "\n",
        "greet(\"Shivani\")"
      ],
      "metadata": {
        "colab": {
          "base_uri": "https://localhost:8080/"
        },
        "id": "mAOhYt8ML1xX",
        "outputId": "e868ebd1-d132-4f3f-da62-04d566aa0d3a"
      },
      "execution_count": null,
      "outputs": [
        {
          "output_type": "stream",
          "name": "stdout",
          "text": [
            "Hello Shivani , Welcome to New Notebook\n"
          ]
        }
      ]
    },
    {
      "cell_type": "code",
      "source": [
        "def sum(num1,num2):\n",
        "  return num1+num2\n",
        "addition=sum(6,6)\n",
        "print(addition)"
      ],
      "metadata": {
        "colab": {
          "base_uri": "https://localhost:8080/"
        },
        "id": "h2ptxy_WMfgv",
        "outputId": "32a991cc-0dc3-4ebc-d870-34b7bc93467c"
      },
      "execution_count": null,
      "outputs": [
        {
          "output_type": "stream",
          "name": "stdout",
          "text": [
            "12\n"
          ]
        }
      ]
    },
    {
      "cell_type": "code",
      "source": [
        "import math\n",
        "print(math.sqrt(36))"
      ],
      "metadata": {
        "colab": {
          "base_uri": "https://localhost:8080/"
        },
        "id": "PlzQNUvNNMdQ",
        "outputId": "380ee445-ca15-415f-a53d-ff819b6f6b2c"
      },
      "execution_count": null,
      "outputs": [
        {
          "output_type": "stream",
          "name": "stdout",
          "text": [
            "6.0\n"
          ]
        }
      ]
    },
    {
      "cell_type": "code",
      "source": [
        "!pip install pandas"
      ],
      "metadata": {
        "colab": {
          "base_uri": "https://localhost:8080/"
        },
        "id": "1IrtVw2JNhur",
        "outputId": "fae1421d-a4da-4bdb-cc0e-e15c68fea637"
      },
      "execution_count": null,
      "outputs": [
        {
          "output_type": "stream",
          "name": "stdout",
          "text": [
            "Requirement already satisfied: pandas in /usr/local/lib/python3.10/dist-packages (2.0.3)\n",
            "Requirement already satisfied: python-dateutil>=2.8.2 in /usr/local/lib/python3.10/dist-packages (from pandas) (2.8.2)\n",
            "Requirement already satisfied: pytz>=2020.1 in /usr/local/lib/python3.10/dist-packages (from pandas) (2023.4)\n",
            "Requirement already satisfied: tzdata>=2022.1 in /usr/local/lib/python3.10/dist-packages (from pandas) (2024.1)\n",
            "Requirement already satisfied: numpy>=1.21.0 in /usr/local/lib/python3.10/dist-packages (from pandas) (1.25.2)\n",
            "Requirement already satisfied: six>=1.5 in /usr/local/lib/python3.10/dist-packages (from python-dateutil>=2.8.2->pandas) (1.16.0)\n"
          ]
        }
      ]
    },
    {
      "cell_type": "code",
      "source": [
        "import pandas as pd\n",
        "data={\"ID\":[0,1],\"Name\":[\"Shivani\",\"Nandini\"]}\n",
        "df=pd.DataFrame(data)\n",
        "print(df)"
      ],
      "metadata": {
        "colab": {
          "base_uri": "https://localhost:8080/"
        },
        "id": "GWOD2Z-uNyxZ",
        "outputId": "8104e625-19ad-4989-c181-bb48a4ab566b"
      },
      "execution_count": null,
      "outputs": [
        {
          "output_type": "stream",
          "name": "stdout",
          "text": [
            "   ID     Name\n",
            "0   0  Shivani\n",
            "1   1  Nandini\n"
          ]
        }
      ]
    },
    {
      "cell_type": "markdown",
      "source": [
        "String operations : replace,strip,find,format"
      ],
      "metadata": {
        "id": "xwvqWOsSPlGW"
      }
    },
    {
      "cell_type": "code",
      "source": [
        "string=\"shivani\"\n",
        "print(string[::-1]) //string slicing"
      ],
      "metadata": {
        "colab": {
          "base_uri": "https://localhost:8080/"
        },
        "id": "2nsR4mX5OO-D",
        "outputId": "9f0125ad-b7ef-4154-a3e7-d471990de6aa"
      },
      "execution_count": null,
      "outputs": [
        {
          "output_type": "stream",
          "name": "stdout",
          "text": [
            "inavihs\n"
          ]
        }
      ]
    },
    {
      "cell_type": "code",
      "source": [
        "def reverse(string):\n",
        "  str=\"\"\n",
        "  for i in string:\n",
        "    str=i+str\n",
        "    print(str)\n",
        "  return str\n",
        "\n",
        "print(reverse(\"Shivani\"))"
      ],
      "metadata": {
        "colab": {
          "base_uri": "https://localhost:8080/"
        },
        "id": "hum2yiFLSpkD",
        "outputId": "1034f77b-7e63-4230-9540-1e557682db05"
      },
      "execution_count": null,
      "outputs": [
        {
          "output_type": "stream",
          "name": "stdout",
          "text": [
            "S\n",
            "hS\n",
            "ihS\n",
            "vihS\n",
            "avihS\n",
            "navihS\n",
            "inavihS\n",
            "inavihS\n"
          ]
        }
      ]
    },
    {
      "cell_type": "markdown",
      "source": [
        "Collections: List,Tuple,Set,Dictionary"
      ],
      "metadata": {
        "id": "ffPw9yu7Upup"
      }
    },
    {
      "cell_type": "code",
      "source": [
        "#Tuple : Ordered,Immutable,Allows duplicates,0 indexed\n",
        "# If you want to change element covert it to list and then change and then convert back\n",
        "\n",
        "emp=(1,\"Shivani\",20)\n",
        "print(type(emp))"
      ],
      "metadata": {
        "colab": {
          "base_uri": "https://localhost:8080/"
        },
        "id": "cHaFymhnUBzU",
        "outputId": "fbbb4c50-293a-48f5-c4db-d1ca2da6e9da"
      },
      "execution_count": null,
      "outputs": [
        {
          "output_type": "stream",
          "name": "stdout",
          "text": [
            "<class 'tuple'>\n"
          ]
        }
      ]
    },
    {
      "cell_type": "code",
      "source": [
        "#Lists : Ordered(the way you insert that order is maintained),Mutable,Allows duplicates,0 indexed\n",
        "#List operations: append,insert,pop,remove\n",
        "\n",
        "task=[\"development\",\"testing\",\"Monitoring\"]\n",
        "print(type(task))\n",
        "print(task)\n",
        "task.append(\"cicd\")\n",
        "task.insert(1,\"unit testing\")\n",
        "print(task)"
      ],
      "metadata": {
        "colab": {
          "base_uri": "https://localhost:8080/"
        },
        "id": "VY--uEYZWMpr",
        "outputId": "5afbd8dd-dca2-49c7-fe3d-1b5f88e92db8"
      },
      "execution_count": null,
      "outputs": [
        {
          "output_type": "stream",
          "name": "stdout",
          "text": [
            "<class 'list'>\n",
            "['development', 'testing', 'Monitoring']\n",
            "['development', 'unit testing', 'testing', 'Monitoring', 'cicd']\n"
          ]
        }
      ]
    },
    {
      "cell_type": "code",
      "source": [
        "# Sets : not Ordered,no duplicates,Mutable\n",
        "#Set operation : update,remove,clear\n",
        "task={\"Devops\",\"Data Engg\",\"Front end\",\"testing\"}\n",
        "print(type(task))\n",
        "print(task)"
      ],
      "metadata": {
        "colab": {
          "base_uri": "https://localhost:8080/"
        },
        "id": "3GBzZl94WCP9",
        "outputId": "b83874b2-b008-434a-9d42-7ec3c3ffa4c2"
      },
      "execution_count": null,
      "outputs": [
        {
          "output_type": "stream",
          "name": "stdout",
          "text": [
            "<class 'set'>\n",
            "{'Devops', 'Data Engg', 'testing', 'Front end'}\n"
          ]
        }
      ]
    },
    {
      "cell_type": "code",
      "source": [
        "#Dictionary : Ordered,Mutable,Allows Duplicates,Key value pair\n",
        "#Dictionary operations : copy,update,\n",
        "\n",
        "user={\"name\":\"Shivani\",\"Age\":26,\"city\":\"Delhi\"}\n",
        "print(type(user))\n",
        "print(user)"
      ],
      "metadata": {
        "colab": {
          "base_uri": "https://localhost:8080/"
        },
        "id": "kw4KvNeoX4Z_",
        "outputId": "dd569021-d794-4b67-afc7-7bc30923762c"
      },
      "execution_count": null,
      "outputs": [
        {
          "output_type": "stream",
          "name": "stdout",
          "text": [
            "<class 'dict'>\n",
            "{'name': 'Shivani', 'Age': 26, 'city': 'Delhi'}\n"
          ]
        }
      ]
    },
    {
      "cell_type": "code",
      "source": [
        "import csv\n",
        "with open('/content/sample_data/mnist_test.csv',mode='r') as file:\n",
        "  csv_read=csv.reader(file)\n",
        "  for row in csv_read:\n",
        "    print(row)"
      ],
      "metadata": {
        "id": "N9CM3LfSY5A0"
      },
      "execution_count": null,
      "outputs": []
    },
    {
      "cell_type": "code",
      "source": [
        "#Pandas : can load,prepare,manipulate,model,analyze data\n",
        "\n"
      ],
      "metadata": {
        "id": "mXkozVK9dWFJ"
      },
      "execution_count": null,
      "outputs": []
    },
    {
      "cell_type": "code",
      "source": [
        "a=[1,5,4,3,7]\n",
        "print(range(len(a)))\n",
        "m=max(a)\n",
        "print(m)\n",
        "l=[0]*m\n",
        "print(l)\n",
        "num=0\n",
        "for i in range(len(a)):\n",
        "  if a[i]>0:\n",
        "    if l[a[i]-1] !=1:\n",
        "      l[a[i]-1]=1\n",
        "      print(l)\n",
        "for i in range(len(l)):\n",
        "  if l[i]==0:\n",
        "    num=i+1\n",
        "    print(num)\n"
      ],
      "metadata": {
        "colab": {
          "base_uri": "https://localhost:8080/"
        },
        "id": "gNjDONhXtYvO",
        "outputId": "7d6d108e-53b6-4ab5-e92c-725ac20a1bb6"
      },
      "execution_count": null,
      "outputs": [
        {
          "output_type": "stream",
          "name": "stdout",
          "text": [
            "range(0, 5)\n",
            "7\n",
            "[0, 0, 0, 0, 0, 0, 0]\n",
            "[1, 0, 0, 0, 0, 0, 0]\n",
            "[1, 0, 0, 0, 1, 0, 0]\n",
            "[1, 0, 0, 1, 1, 0, 0]\n",
            "[1, 0, 1, 1, 1, 0, 0]\n",
            "[1, 0, 1, 1, 1, 0, 1]\n",
            "2\n",
            "6\n"
          ]
        }
      ]
    },
    {
      "cell_type": "code",
      "source": [],
      "metadata": {
        "id": "14xng2GrtfVk"
      },
      "execution_count": null,
      "outputs": []
    }
  ]
}