{
  "cells": [
    {
      "cell_type": "markdown",
      "metadata": {
        "id": "view-in-github",
        "colab_type": "text"
      },
      "source": [
        "<a href=\"https://colab.research.google.com/github/shivani-rao/basicPythonCodes/blob/master/100_Python_Problems.ipynb\" target=\"_parent\"><img src=\"https://colab.research.google.com/assets/colab-badge.svg\" alt=\"Open In Colab\"/></a>"
      ]
    },
    {
      "cell_type": "code",
      "execution_count": null,
      "id": "8b216bb3",
      "metadata": {
        "id": "8b216bb3",
        "outputId": "71b2aa36-ea53-4e7e-d733-9a1fb2559cd5"
      },
      "outputs": [
        {
          "name": "stdout",
          "output_type": "stream",
          "text": [
            "Enter your age : 26\n",
            "Enter your age : 31\n",
            "Enter your age : 12\n",
            "age 2 is the greatest\n"
          ]
        }
      ],
      "source": [
        "## User will input (3ages).Find the oldest one\n",
        "\n",
        "age1 = int(input(\"Enter your age : \"))\n",
        "age2 = int(input(\"Enter your age : \"))\n",
        "age3 = int(input(\"Enter your age : \"))\n",
        "\n",
        "if (age1>=age2) and (age1>=age3) :\n",
        "    print(\"age 1 is the greatest\")\n",
        "elif (age2>=age1) and (age2>=age3) :\n",
        "    print(\"age 2 is the greatest\")\n",
        "\n",
        "else :\n",
        "    print('age3 is the greatest')\n"
      ]
    },
    {
      "cell_type": "code",
      "execution_count": null,
      "id": "15d01252",
      "metadata": {
        "id": "15d01252",
        "outputId": "976ff283-0101-471c-94b6-b24ae0479224"
      },
      "outputs": [
        {
          "name": "stdout",
          "output_type": "stream",
          "text": [
            "Enter the temperature in Celsius : 32\n",
            "Temp in Fahrenhite is  : 69.75999999999999\n"
          ]
        }
      ],
      "source": [
        "## Write a program that will convert celsius value to fahrenheit\n",
        "\n",
        "temp =  float(input(\"Enter the temperature in Celsius : \"))\n",
        "farh =  (temp*1.18 +32)\n",
        "print(\"Temp in Fahrenhite is  :\", farh)"
      ]
    },
    {
      "cell_type": "code",
      "execution_count": null,
      "id": "8b563d28",
      "metadata": {
        "id": "8b563d28",
        "outputId": "3c514451-6159-4718-ad02-44319ff1b427"
      },
      "outputs": [
        {
          "name": "stdout",
          "output_type": "stream",
          "text": [
            "Enter num1  : 2\n",
            "Enter num2 : 6\n",
            "after swapping both ....\n",
            "num1 : 6\n",
            "num2 : 2\n"
          ]
        }
      ],
      "source": [
        "## User will input (2numbers).Write a program to swap the numbers\n",
        "\n",
        "c= 0\n",
        "\n",
        "a = int(input(\"Enter num1  : \"))\n",
        "b = int(input(\"Enter num2 : \"))\n",
        "\n",
        "c=a\n",
        "a=b\n",
        "b=c\n",
        "\n",
        "print (\"after swapping both ....\")\n",
        "\n",
        "print (\"num1 :\", a)\n",
        "print (\"num2 :\" , b)"
      ]
    },
    {
      "cell_type": "code",
      "execution_count": null,
      "id": "7aed3974",
      "metadata": {
        "id": "7aed3974",
        "outputId": "1a7aa294-a0f2-4e9e-8b3b-fbb7df8794e8"
      },
      "outputs": [
        {
          "name": "stdout",
          "output_type": "stream",
          "text": [
            "Enter num1  : 7\n",
            "Enter num2 : 9\n",
            "after swapping both ....\n",
            "num1 : 9\n",
            "num2 : 7\n"
          ]
        }
      ],
      "source": [
        "## Write a program to swap the numbers without using 3rd variable\n",
        "\n",
        "\n",
        "a = int(input(\"Enter num1  : \"))\n",
        "b = int(input(\"Enter num2 : \"))\n",
        "\n",
        "a=a+b\n",
        "b=a-b\n",
        "a=a-b\n",
        "\n",
        "print (\"after swapping both ....\")\n",
        "print (\"num1 :\", a)\n",
        "print (\"num2 :\" , b)"
      ]
    },
    {
      "cell_type": "code",
      "execution_count": null,
      "id": "7fbc1634",
      "metadata": {
        "id": "7fbc1634",
        "outputId": "e445dd15-e0ce-4e60-9720-319912c6f560"
      },
      "outputs": [
        {
          "name": "stdout",
          "output_type": "stream",
          "text": [
            "Enter number :789\n",
            "sum of digits : 24\n"
          ]
        }
      ],
      "source": [
        "#Write a program that will give you the sum of 3 digits\n",
        "\n",
        "num = int(input ('Enter number :'))\n",
        "\n",
        "a = num%10\n",
        "rem = num//10\n",
        "\n",
        "b = rem%10\n",
        "rem = rem//10\n",
        "\n",
        "c = rem%10\n",
        "\n",
        "sum = a+b+c\n",
        "print (\"sum of digits :\" , sum)\n"
      ]
    },
    {
      "cell_type": "code",
      "execution_count": null,
      "id": "d8351b20",
      "metadata": {
        "id": "d8351b20",
        "outputId": "acd0ad9a-b576-4e6b-f43b-a5e246cd3adc"
      },
      "outputs": [
        {
          "name": "stdout",
          "output_type": "stream",
          "text": [
            "Enter number :9876\n",
            "New number is :  6789\n"
          ]
        }
      ],
      "source": [
        "#Write a program that will reverse a four digit number. Also it checks whether the reverse is true.\n",
        "\n",
        "num = int(input ('Enter number :'))\n",
        "\n",
        "d1 = num%10\n",
        "num = num//10\n",
        "d2 = num % 10\n",
        "num = num//10\n",
        "d3 = num % 10\n",
        "num = num//10\n",
        "d4 = num % 10\n",
        "\n",
        "print ('New number is : ', (1000*d1 +100*d2+ 10*d3 + d4))\n"
      ]
    },
    {
      "cell_type": "code",
      "execution_count": null,
      "id": "833d641d",
      "metadata": {
        "id": "833d641d",
        "outputId": "82de1a3e-8c82-491a-af83-ecd382197115"
      },
      "outputs": [
        {
          "name": "stdout",
          "output_type": "stream",
          "text": [
            "Enter a number : 11\n",
            "Odd number\n"
          ]
        }
      ],
      "source": [
        "## Write a program that will tell whether the number entered by the user is odd or even\n",
        "\n",
        "num = int(input ('Enter a number : '))\n",
        "if num%2 == 0:\n",
        "    print(\"even number\")\n",
        "\n",
        "elif num%2 == 1 :\n",
        "    print (\"Odd number\")\n",
        ""
      ]
    },
    {
      "cell_type": "code",
      "execution_count": null,
      "id": "2187c491",
      "metadata": {
        "id": "2187c491",
        "outputId": "e3a09046-bd10-42ef-adbb-202cbdd4c90f"
      },
      "outputs": [
        {
          "name": "stdout",
          "output_type": "stream",
          "text": [
            "Enter a year: 2022\n",
            "2022 is not a leap year\n"
          ]
        }
      ],
      "source": [
        "## Write a program that will tell whether the given year is a leap year or not.\n",
        "\n",
        "\n",
        "year = int(input(\"Enter a year: \"))\n",
        "\n",
        "# divided by 100 means century year (ending with 00)\n",
        "# century year divided by 400 is leap year\n",
        "if (year % 400 == 0) and (year % 100 == 0):\n",
        "    print(\"{0} is a leap year\".format(year))\n",
        "\n",
        "# not divided by 100 means not a century year\n",
        "# year divided by 4 is a leap year\n",
        "elif (year % 4 ==0) and (year % 100 != 0):\n",
        "    print(\"{0} is a leap year\".format(year))\n",
        "\n",
        "# if not divided by both 400 (century year) and 4 (not century year)\n",
        "# year is not leap year\n",
        "else:\n",
        "    print(\"{0} is not a leap year\".format(year))"
      ]
    },
    {
      "cell_type": "code",
      "execution_count": null,
      "id": "b711f5e9",
      "metadata": {
        "id": "b711f5e9",
        "outputId": "8dd136b3-08cf-4a0c-d205-8efe118aa40e"
      },
      "outputs": [
        {
          "name": "stdout",
          "output_type": "stream",
          "text": [
            "Enter coordinate-1 x-val: 12\n",
            "Enter coordinate-1 y-val: 8\n",
            "Enter coordinate-2 x-val: -8\n",
            "Enter coordinate-2 y-val: 11\n",
            "Euclindean Distance =  20.0\n"
          ]
        }
      ],
      "source": [
        "##Write a program to find the euclidean distance between two coordinates.\n",
        "x1 = int(input(\"Enter coordinate-1 x-val: \"))\n",
        "y1 = int(input(\"Enter coordinate-1 y-val: \"))\n",
        "\n",
        "x2 = int(input(\"Enter coordinate-2 x-val: \"))\n",
        "y2 = int(input(\"Enter coordinate-2 y-val: \"))\n",
        "\n",
        "Euc = ((x2-x1)**2 + (y2-y2)**2)** 0.5\n",
        "\n",
        "print(\"Euclindean Distance = \", Euc)\n"
      ]
    },
    {
      "cell_type": "code",
      "execution_count": null,
      "id": "3fe4ed2a",
      "metadata": {
        "id": "3fe4ed2a",
        "outputId": "955a89e6-a54b-4829-fcff-67ac62eae8f6"
      },
      "outputs": [
        {
          "name": "stdout",
          "output_type": "stream",
          "text": [
            "Enter angle 1: 90\n",
            "Enter angle 2: 60\n",
            "Enter angle 3: 30\n",
            "Valid triangle\n"
          ]
        }
      ],
      "source": [
        "## Write a program that take a user input of three angles and will find out whether it can form a triangle or not.\n",
        "a = int(input(\"Enter angle 1: \"))\n",
        "b = int(input(\"Enter angle 2: \"))\n",
        "c = int(input(\"Enter angle 3: \"))\n",
        "\n",
        "if (a+b+c == 180) and a!=0 and b!=0 and c!=0 :\n",
        "    print (\"Valid triangle\")\n",
        "else :\n",
        "    print (\"Not a valid triangle\")"
      ]
    },
    {
      "cell_type": "code",
      "execution_count": null,
      "id": "0941085e",
      "metadata": {
        "id": "0941085e",
        "outputId": "667e2160-cf6a-463a-d74f-7544b4d5b7e2"
      },
      "outputs": [
        {
          "name": "stdout",
          "output_type": "stream",
          "text": [
            "Enter CP :890\n",
            "Enter SP :900\n",
            "Profit\n"
          ]
        }
      ],
      "source": [
        "## Write a program that will take user input of cost price and selling price and determine whether its a loss or a profit\n",
        "\n",
        "CP = int(input(\"Enter CP :\"))\n",
        "SP = int(input(\"Enter SP :\"))\n",
        "\n",
        "if CP > SP:\n",
        "    print (\"Loss\")\n",
        "\n",
        "elif CP < SP :\n",
        "    print (\"Profit\")\n",
        "\n",
        "else :\n",
        "    print(\"Neither profit nor loss\")\n"
      ]
    },
    {
      "cell_type": "code",
      "execution_count": null,
      "id": "473d545b",
      "metadata": {
        "id": "473d545b",
        "outputId": "3b336309-dd23-4d8d-8635-a00691c88896"
      },
      "outputs": [
        {
          "name": "stdout",
          "output_type": "stream",
          "text": [
            "Enter your principal : 800\n",
            "Enter your rate of interest : 7\n",
            "Enter your time period in years : 10\n",
            "Your amount is Rs  1360.0 on a simple interest of :  560.0 %\n"
          ]
        }
      ],
      "source": [
        "## Write a program to find the simple interest when the value of principle,rate of interest and time period is given.\n",
        "\n",
        "p = int(input(\"Enter your principal : \"))\n",
        "r = int(input(\"Enter your rate of interest : \"))\n",
        "t = int(input(\"Enter your time period in years : \"))\n",
        "\n",
        "si = p*r*t/100\n",
        "a = si+p\n",
        "\n",
        "print (\"Your amount is Rs \", a, \"on a simple interest of : \", si, \"%\")"
      ]
    },
    {
      "cell_type": "code",
      "execution_count": null,
      "id": "0152ce79",
      "metadata": {
        "id": "0152ce79",
        "outputId": "abfecc3d-86e8-4797-905a-902ae30b408a"
      },
      "outputs": [
        {
          "name": "stdout",
          "output_type": "stream",
          "text": [
            "Enter your Cylinder's radius : 10\n",
            "Enter your Cylinder's height : 45\n",
            "Volume of the cylinder is : 14130.0 cm3 and cost of milk will be Rs 565.2\n"
          ]
        }
      ],
      "source": [
        "## Write a program to find the volume of the cylinder. Also find the cost when ,when the cost of 1litre milk is 40Rs.\n",
        "\n",
        "r = int(input(\"Enter your Cylinder's radius : \"))\n",
        "h = int(input(\"Enter your Cylinder's height : \"))\n",
        "\n",
        "v = 3.14*(r**2)*h\n",
        "cost = 40 * v/1000\n",
        "print(\"Volume of the cylinder is :\", v,\"cm3 and cost of milk will be Rs\", cost)"
      ]
    },
    {
      "cell_type": "code",
      "execution_count": null,
      "id": "f73aec5a",
      "metadata": {
        "id": "f73aec5a",
        "outputId": "1a0382e6-7f24-4365-fea0-5792f02fbfdc"
      },
      "outputs": [
        {
          "name": "stdout",
          "output_type": "stream",
          "text": [
            "Enter the number : 36\n",
            "Divisible by both 3 and 6\n"
          ]
        }
      ],
      "source": [
        "#Write  a program that will tell whether the given number is divisible by 3 & 6.\n",
        "\n",
        "num = int(input(\"Enter the number : \"))\n",
        "if (num%3==0 and num%6==0):\n",
        "    print(\"Divisible by both 3 and 6\")\n",
        "else :\n",
        "    print(\"Number not divisible by both 3 and 6\")"
      ]
    },
    {
      "cell_type": "markdown",
      "id": "e0200ed8",
      "metadata": {
        "id": "e0200ed8"
      },
      "source": [
        "#### Write a program that will determine weather when the value of temperature and humidity is provided by the user.\n",
        "\n",
        "    TEMPERATURE(C)      HUMIDITY(%)         WEATHER\n",
        "     >= 30              >=90                Hot and Humid\n",
        "     >= 30              < 90                Hot\n",
        "     <30                >= 90               Cool and Humid\n",
        "     <30                <90                 Cool\n",
        "\n"
      ]
    },
    {
      "cell_type": "code",
      "execution_count": null,
      "id": "2e23cda1",
      "metadata": {
        "id": "2e23cda1",
        "outputId": "f0376ddd-f562-4b13-e420-ca9614ed4fe9"
      },
      "outputs": [
        {
          "name": "stdout",
          "output_type": "stream",
          "text": [
            "Enter temperature in celsius : 34\n",
            "Enter humidity in percentage : 60\n",
            "Hot\n"
          ]
        }
      ],
      "source": [
        "temp = int(input(\"Enter temperature in celsius : \"))\n",
        "humid = int(input(\"Enter humidity in percentage : \"))\n",
        "\n",
        "if (temp>=30 and humid >=90):\n",
        "    print('Hot and Humid')\n",
        "elif (temp>=30 and humid <90):\n",
        "    print('Hot')\n",
        "elif (temp<30 and humid >=90):\n",
        "    print('Cool and Humid')\n",
        "else :\n",
        "    print(\"Cool\")\n",
        ""
      ]
    },
    {
      "cell_type": "code",
      "execution_count": null,
      "id": "c06648ff",
      "metadata": {
        "id": "c06648ff",
        "outputId": "94762222-b981-4cce-d2d1-e6f7f0967add"
      },
      "outputs": [
        {
          "name": "stdout",
          "output_type": "stream",
          "text": [
            "Enter the first digit : 3\n",
            "Enter the second digit : 1\n",
            "Enter the third digit : 5\n",
            "Sum of square of digits is :  35\n"
          ]
        }
      ],
      "source": [
        "## Write a program that will take three digits from the user and add the square of each digit.\n",
        "\n",
        "num1 = int(input(\"Enter the first digit : \"))\n",
        "num2 = int(input(\"Enter the second digit : \"))\n",
        "num3 = int(input(\"Enter the third digit : \"))\n",
        "\n",
        "sum = (num1**2 + num2**2 + num3**2)\n",
        "print (\"Sum of square of digits is : \", sum)"
      ]
    },
    {
      "cell_type": "code",
      "execution_count": null,
      "id": "d89d2b74",
      "metadata": {
        "id": "d89d2b74",
        "outputId": "880d9e67-fc52-41d1-d7f5-cd93ca8b886c"
      },
      "outputs": [
        {
          "name": "stdout",
          "output_type": "stream",
          "text": [
            "Enter the number : 145\n",
            "145 is not an Armstrong number\n"
          ]
        }
      ],
      "source": [
        "## Write a program that will check whether the number is armstrong (or narcissist) number or not.\n",
        "\n",
        "### let us consider ABC of order ‘n’ then ABC is an Armstrong number if: ABC= An+Bn+Cn\n",
        "#### 153 = 1*1*1 + 5*5*5 + 3*3*3  // 153 is an Armstrong number\n",
        "\n",
        "num = int(input(\"Enter the number : \"))\n",
        "order = len(str(num))\n",
        "\n",
        "# initialize sum\n",
        "sum = 0\n",
        "\n",
        "# find the sum of the cube of each digit\n",
        "temp = num\n",
        "while temp > 0:\n",
        "    digit = temp % 10\n",
        "    sum += digit ** order\n",
        "    temp //= 10\n",
        "\n",
        "# display the result\n",
        "if num == sum:\n",
        "    print(num,\"is an Armstrong number\")\n",
        "else:\n",
        "    print(num,\"is not an Armstrong number\")"
      ]
    },
    {
      "cell_type": "code",
      "execution_count": null,
      "id": "4766dd8b",
      "metadata": {
        "id": "4766dd8b",
        "outputId": "a996b1f8-4bac-419d-a17d-8f314b3eb109"
      },
      "outputs": [
        {
          "name": "stdout",
          "output_type": "stream",
          "text": [
            "Enter the number : 13\n",
            "13 is a prime number\n"
          ]
        }
      ],
      "source": [
        "## Write a program that will check whether the number is prime number or not.\n",
        "\n",
        "#take user input\n",
        "num = int(input(\"Enter the number : \"))\n",
        "\n",
        "# define a flag variable\n",
        "flag = False\n",
        "\n",
        "# prime numbers are greater than 1\n",
        "if num > 1:\n",
        "    # check for factors\n",
        "    for i in range(2, num):\n",
        "        if (num % i) == 0:\n",
        "            # if factor is found, set flag to True\n",
        "            flag = True\n",
        "            # break out of loop\n",
        "            break\n",
        "\n",
        "# check if flag is True\n",
        "if flag:\n",
        "    print(num, \"is not a prime number\")\n",
        "else:\n",
        "    print(num, \"is a prime number\")"
      ]
    },
    {
      "cell_type": "code",
      "execution_count": null,
      "id": "430542dc",
      "metadata": {
        "id": "430542dc",
        "outputId": "f0934d5c-92b5-442b-ee01-d2a46c8fea0e"
      },
      "outputs": [
        {
          "name": "stdout",
          "output_type": "stream",
          "text": [
            "Enter any number: 7\n",
            "The number is not a Perfect number!\n"
          ]
        }
      ],
      "source": [
        "## Write a program that will check whether the number is perfect number or not.\n",
        "### if the sum of a number's positive divisors excluding the number itself is equal to that number..\n",
        "#### For example, 6 is a perfect number in Python because 6 = 1+2+3 (it's divisors)\n",
        "\n",
        "n = int(input(\"Enter any number: \"))\n",
        "sum1 = 0\n",
        "for i in range(1, n):\n",
        "    if(n % i == 0):\n",
        "        sum1 = sum1 + i\n",
        "if (sum1 == n):\n",
        "    print(\"The number is a Perfect number!\")\n",
        "else:\n",
        "    print(\"The number is not a Perfect number!\")"
      ]
    },
    {
      "cell_type": "code",
      "execution_count": null,
      "id": "122048e2",
      "metadata": {
        "id": "122048e2",
        "outputId": "4e279b7b-2a47-486e-8fc2-e1a16d02defc"
      },
      "outputs": [
        {
          "name": "stdout",
          "output_type": "stream",
          "text": [
            "How many terms? 11\n",
            "Fibonacci sequence:\n",
            "0\n",
            "1\n",
            "1\n",
            "2\n",
            "3\n",
            "5\n",
            "8\n",
            "13\n",
            "21\n",
            "34\n",
            "55\n"
          ]
        }
      ],
      "source": [
        "## Write a program to display the Fibonacci sequence up to n-th term\n",
        "\n",
        "nterms = int(input(\"How many terms? \"))\n",
        "\n",
        "# first two terms\n",
        "n1, n2 = 0, 1\n",
        "count = 0\n",
        "\n",
        "# check if the number of terms is valid\n",
        "if nterms <= 0:\n",
        "    print(\"Please enter a positive integer\")\n",
        "\n",
        "# if there is only one term, return n1\n",
        "elif nterms == 1:\n",
        "    print(\"Fibonacci sequence upto\",nterms,\":\")\n",
        "    print(n1)\n",
        "\n",
        "# generate fibonacci sequence\n",
        "else:\n",
        "    print(\"Fibonacci sequence:\")\n",
        "    while count < nterms:\n",
        "        print(n1)\n",
        "        nth = n1 + n2\n",
        "\n",
        "       #update values\n",
        "        n1 = n2\n",
        "        n2 = nth\n",
        "        count += 1"
      ]
    },
    {
      "cell_type": "code",
      "execution_count": null,
      "id": "e6a18572",
      "metadata": {
        "id": "e6a18572",
        "outputId": "45fb216b-99bd-4cdd-ac24-6268f13d4f32"
      },
      "outputs": [
        {
          "name": "stdout",
          "output_type": "stream",
          "text": [
            "Enter you annual CTC :1600000\n",
            "Salary after tax deduction : Rs 1280000.0\n",
            "In hand salary per month is Rs 87466.66666666667\n",
            "0.08746666666666666 Cr\n"
          ]
        }
      ],
      "source": [
        "## Write a program that will give you the in hand salary after deduction of HRA(10%), DA(5%), PF(3%) and tax\n",
        "## (if salary is between 5-10 lakh–10%),(11-20lakh–20%),(20< _   – 30%)(0-1lakh print k).\n",
        "\n",
        "user_ip = float(input('Enter you annual CTC :'))\n",
        "\n",
        "if user_ip > 500000 and user_ip <1000000 :\n",
        "    tax = (10/100)*user_ip\n",
        "    salary = user_ip-tax\n",
        "\n",
        "elif user_ip >1000000 and user_ip <2000000:\n",
        "    tax = (20/100)*user_ip\n",
        "    salary = user_ip-tax\n",
        "else :\n",
        "    tax = (30/100)*user_ip\n",
        "    salary = user_ip - tax\n",
        "\n",
        "print(\"Salary after tax deduction : Rs\", salary)\n",
        "\n",
        "hra = (10/100)*salary\n",
        "da = (5/100)*salary\n",
        "pf = (3/100)*salary\n",
        "\n",
        "in_hand = (salary-hra-da-pf)/12\n",
        "print(\"In hand salary per month is Rs\", in_hand)\n",
        "\n",
        "if in_hand <=999:\n",
        "    print(in_hand)\n",
        "\n",
        "elif in_hand >=1000 and in_hand<=9999:\n",
        "    print(\"Salary is :\", 'k')\n",
        "\n",
        "elif in_hand >=100000 and in_hand<=9999999:\n",
        "    print(\"Salary is :\", 'l')\n",
        "\n",
        "else :\n",
        "    print(in_hand / 1000000, 'Cr')\n",
        ""
      ]
    },
    {
      "cell_type": "code",
      "execution_count": null,
      "id": "df76ab13",
      "metadata": {
        "id": "df76ab13",
        "outputId": "f323cb01-d928-49cb-a9b2-47091805c3d4"
      },
      "outputs": [
        {
          "name": "stdout",
          "output_type": "stream",
          "text": [
            "\n",
            "Hi! Welcome to my page\n",
            "What would you like to do ?\n",
            "\n",
            "1. Convert cm to inches\n",
            "2. Convert km to miles\n",
            "3. Convert usd to inr\n",
            "4. Exit\n",
            "3\n",
            "Enter value in usd :600\n",
            "Value in INR is : 45978.0\n"
          ]
        }
      ],
      "source": [
        "## Write a menu driven program - 1.cm to ft  2.kl to miles  3.usd to inr  4.exit\n",
        "\n",
        "user_inp = input('''\n",
        "Hi! Welcome to my page\n",
        "What would you like to do ?\n",
        "\n",
        "1. Convert cm to inches\n",
        "2. Convert km to miles\n",
        "3. Convert usd to inr\n",
        "4. Exit\n",
        "''')\n",
        "\n",
        "if user_inp =='1' :\n",
        "    cm = float(input('Enter value in cm :'))\n",
        "    inch = cm * 0.394\n",
        "    print ('Value in inches is :', inch)\n",
        "\n",
        "elif user_inp =='2':\n",
        "    km = float(input('Enter value in km :'))\n",
        "    mile = km * 0.621\n",
        "    print ('Value in miles is :', mile)\n",
        "\n",
        "elif user_inp =='3' :\n",
        "    usd = float(input('Enter value in usd :'))\n",
        "    inr = usd * 76.63\n",
        "    print ('Value in INR is :', inr)\n",
        "\n",
        "else :\n",
        "    print('Exit')\n"
      ]
    },
    {
      "cell_type": "code",
      "execution_count": null,
      "id": "a7aa6dde",
      "metadata": {
        "id": "a7aa6dde",
        "outputId": "d9a681a7-ab60-4802-8771-b3107f4f3716"
      },
      "outputs": [
        {
          "name": "stdout",
          "output_type": "stream",
          "text": [
            "Enter the total number of heads :40\n",
            "Enter the total number of legs :90\n",
            "Number of chickens : 35.0\n",
            "Number of dogs : 5\n"
          ]
        }
      ],
      "source": [
        "## Write a program that will tell the number of dogs and chicken are there when the user will provide the value of total heads and legs\n",
        "\n",
        "h = int(input('Enter the total number of heads :'))\n",
        "l = int(input('Enter the total number of legs :'))\n",
        "\n",
        "if h<l:\n",
        "\n",
        "    c = 2*h - (l/2)\n",
        "    print ('Number of chickens :', c)\n",
        "    d = h-c\n",
        "    print('Number of dogs :', int(d))\n",
        "\n",
        "else :\n",
        "    print('Not possible')\n",
        "\n",
        "# clearly\n",
        "#c + d = h\n",
        "#2c + 4d = l\n",
        "\n",
        "#d = h-c  # will give us the total num of dogs\n",
        "#2c + 4(h-c) = l\n",
        "#c = 2h - (l/2)  # will give the number of chickens"
      ]
    },
    {
      "cell_type": "code",
      "execution_count": null,
      "id": "2f84781f",
      "metadata": {
        "id": "2f84781f",
        "outputId": "7e066b0d-842b-4762-c805-2418cebe0faf"
      },
      "outputs": [
        {
          "name": "stdout",
          "output_type": "stream",
          "text": [
            "Enter the number16\n",
            "Sum of all numbers :  136\n"
          ]
        }
      ],
      "source": [
        "# Write a program to find the sum of first n numbers, where n will be provided by the user.\n",
        "## Eg if the user provides n=10 the output should be 55.\n",
        "\n",
        "num = int(input(\"Enter the number\"))\n",
        "sum = 0\n",
        "for i in range(1, num+1):\n",
        "    sum = sum+i\n",
        "\n",
        "print (\"Sum of all numbers : \", sum)"
      ]
    },
    {
      "cell_type": "code",
      "execution_count": null,
      "id": "7c43ab97",
      "metadata": {
        "id": "7c43ab97",
        "outputId": "d16d3194-abf2-464a-d56e-57ea4c2b36dc"
      },
      "outputs": [
        {
          "name": "stdout",
          "output_type": "stream",
          "text": [
            "Enter the first number : 9\n",
            "Enter the second number: 7\n",
            "Product is : 63\n"
          ]
        }
      ],
      "source": [
        "## Write a program that can multiply 2 numbers provided by the user without using the * operator\n",
        "\n",
        "num1 = int(input(\"Enter the first number : \"))\n",
        "num2 = int(input(\"Enter the second number: \"))\n",
        "prod =0\n",
        "\n",
        "for i in range (1, num2+1):\n",
        "    prod = prod+num1\n",
        "\n",
        "print(\"Product is :\" , prod)\n"
      ]
    },
    {
      "cell_type": "code",
      "execution_count": null,
      "id": "271177db",
      "metadata": {
        "id": "271177db",
        "outputId": "8f0691a6-d677-4f0a-e33f-c51859327551"
      },
      "outputs": [
        {
          "name": "stdout",
          "output_type": "stream",
          "text": [
            "Enter the number : 5\n",
            "Factorial is  120\n"
          ]
        }
      ],
      "source": [
        "## Write a program that can find the factorial of a given number provided by the user.\n",
        "\n",
        "num = int(input(\"Enter the number : \"))\n",
        "fact=1\n",
        "for i in range(2,num+1):\n",
        "    fact = fact*i\n",
        "print('Factorial is ',fact)"
      ]
    },
    {
      "cell_type": "code",
      "execution_count": null,
      "id": "d9befcb0",
      "metadata": {
        "id": "d9befcb0",
        "outputId": "7538e9d1-7bf9-4107-a83b-3f8f13763cda"
      },
      "outputs": [
        {
          "name": "stdout",
          "output_type": "stream",
          "text": [
            "1\n",
            "3\n",
            "5\n",
            "7\n",
            "9\n",
            "11\n",
            "13\n",
            "15\n",
            "17\n",
            "19\n",
            "21\n",
            "23\n",
            "25\n",
            "27\n",
            "29\n",
            "31\n",
            "33\n",
            "35\n",
            "37\n",
            "39\n",
            "41\n",
            "43\n",
            "45\n",
            "47\n",
            "49\n"
          ]
        }
      ],
      "source": [
        "## Write a program to print the first 25 odd numbers\n",
        "\n",
        "for i in range(0,25) :\n",
        "    num = 2*i+1\n",
        "    print(num)"
      ]
    },
    {
      "cell_type": "code",
      "execution_count": null,
      "id": "bbed61be",
      "metadata": {
        "id": "bbed61be",
        "outputId": "ed6848fe-f59d-4cc4-dc4a-c8dbc1f659cb"
      },
      "outputs": [
        {
          "name": "stdout",
          "output_type": "stream",
          "text": [
            "153\n",
            "370\n",
            "371\n",
            "407\n"
          ]
        }
      ],
      "source": [
        "## Print all the armstrong numbers in the range of 100 to 1000\n",
        "\n",
        "\n",
        "lower = 100\n",
        "upper = 1000\n",
        "\n",
        "for num in range(lower, upper + 1):\n",
        "\n",
        "   # order of number\n",
        "   order = len(str(num))\n",
        "\n",
        "   # initialize sum\n",
        "   sum = 0\n",
        "\n",
        "   temp = num\n",
        "   while temp > 0:\n",
        "       digit = temp % 10\n",
        "       sum += digit ** order\n",
        "       temp //= 10\n",
        "\n",
        "   if num == sum:\n",
        "       print(num)"
      ]
    },
    {
      "cell_type": "markdown",
      "id": "b4d01b68",
      "metadata": {
        "id": "b4d01b68"
      },
      "source": [
        "#### The current population of a town is 10000. The population of the town is increasing at the rate of 10% per year.\n",
        "You have to write a program to find out the population at the end of each of the last 10 years.\n",
        "\n",
        "For eg current population is 10000 so the output should be like this:\n",
        "\n",
        "    10th year - 10000\n",
        "    9th year - 9000\n",
        "    8th year - 8100 and so on\n"
      ]
    },
    {
      "cell_type": "code",
      "execution_count": null,
      "id": "8df842c2",
      "metadata": {
        "id": "8df842c2",
        "outputId": "76d5fa70-a109-4c88-be77-445c57af8401"
      },
      "outputs": [
        {
          "name": "stdout",
          "output_type": "stream",
          "text": [
            "10th year - 10000\n",
            "9th year - 9000\n",
            "8th year - 8100\n",
            "7th year - 7290\n",
            "6th year - 6561\n",
            "5th year - 5904\n",
            "4th year - 5313\n",
            "3th year - 4781\n",
            "2th year - 4302\n",
            "1th year - 3871\n"
          ]
        }
      ],
      "source": [
        "curr =10000\n",
        "print (\"10th year - 10000\")\n",
        "for i in range (9,0,-1):\n",
        "    pop = int(curr - (curr*10)/100)\n",
        "    curr = pop\n",
        "    print(\"{}th year - {}\".format(i, pop))"
      ]
    },
    {
      "cell_type": "code",
      "execution_count": null,
      "id": "ec49ceef",
      "metadata": {
        "id": "ec49ceef",
        "outputId": "f0e88257-e4cd-459b-dfa9-158df768aad7"
      },
      "outputs": [
        {
          "name": "stdout",
          "output_type": "stream",
          "text": [
            "1 2\n",
            "1 3\n",
            "1 4\n",
            "2 1\n",
            "2 3\n",
            "2 4\n",
            "3 1\n",
            "3 2\n",
            "3 4\n",
            "4 1\n",
            "4 2\n",
            "4 3\n"
          ]
        }
      ],
      "source": [
        "## Write a program to print all the unique combinations of 1,2,3 and 4\n",
        "\n",
        "for i in range(1,5):\n",
        "    for j in range(1,5):\n",
        "        if i!=j:\n",
        "            print(i,j)"
      ]
    },
    {
      "cell_type": "code",
      "execution_count": null,
      "id": "03bb0739",
      "metadata": {
        "id": "03bb0739",
        "outputId": "ea19f758-98d0-4519-a82f-df1dee050aee"
      },
      "outputs": [
        {
          "name": "stdout",
          "output_type": "stream",
          "text": [
            "Enter num1  : 80\n",
            "Enter num2 : 65\n",
            "HCF is :  5\n",
            "LCM is : 15.0\n"
          ]
        }
      ],
      "source": [
        "## User will provide 2 numbers you have to find the HCF and LCM of those 2 numbers\n",
        "\n",
        "a = int(input(\"Enter num1  : \"))\n",
        "b = int(input(\"Enter num2 : \"))\n",
        "\n",
        "while a%b !=0:\n",
        "    rem = a%b\n",
        "    a = b\n",
        "    b = rem\n",
        "print(\"HCF is : \", b)\n",
        "\n",
        "lcm = (a*b)/b\n",
        "print(\"LCM is :\", lcm)\n"
      ]
    },
    {
      "cell_type": "code",
      "execution_count": null,
      "id": "83695d74",
      "metadata": {
        "id": "83695d74",
        "outputId": "06094e89-b402-4910-fbf0-f04b458ba333"
      },
      "outputs": [
        {
          "name": "stdout",
          "output_type": "stream",
          "text": [
            "1 )  2\n",
            "2 )  3\n",
            "3 )  5\n",
            "4 )  7\n",
            "5 )  11\n",
            "6 )  13\n",
            "7 )  17\n",
            "8 )  19\n",
            "9 )  23\n",
            "10 )  29\n",
            "11 )  31\n",
            "12 )  37\n",
            "13 )  41\n",
            "14 )  43\n",
            "15 )  47\n",
            "16 )  53\n",
            "17 )  59\n",
            "18 )  61\n",
            "19 )  67\n",
            "20 )  71\n",
            "21 )  73\n",
            "22 )  79\n",
            "23 )  83\n",
            "24 )  89\n",
            "25 )  97\n"
          ]
        }
      ],
      "source": [
        "#Print first 25 prime numbers\n",
        "\n",
        "counter = 1\n",
        "num = 2\n",
        "while counter <=25:\n",
        "    for i in range (2, num):\n",
        "        if num % i==0:\n",
        "            break\n",
        "    else:\n",
        "        print(counter, ') ',num)\n",
        "        counter = counter+1\n",
        "    num= num+1\n",
        "\n",
        ""
      ]
    },
    {
      "cell_type": "code",
      "execution_count": null,
      "id": "4abd47a8",
      "metadata": {
        "id": "4abd47a8",
        "outputId": "709b8da4-8bc9-401a-ba9e-9c206f5f02bb"
      },
      "outputs": [
        {
          "name": "stdout",
          "output_type": "stream",
          "text": [
            "0 1 1 2 3 5 8 13 21 34 55 89 144 233 377 610 987 1597 2584 4181 "
          ]
        }
      ],
      "source": [
        "##Print the first 20 numbers of a Fibonacci series\n",
        "\n",
        "def printFibonacciNumbers(n):\n",
        "\n",
        "    f1 = 0\n",
        "    f2 = 1\n",
        "    if (n < 1):\n",
        "        return\n",
        "    print(f1, end = \" \")\n",
        "    for x in range(1, n):\n",
        "        print(f2, end=\" \")\n",
        "        next = f1 + f2\n",
        "        f1 = f2\n",
        "        f2 = next\n",
        "\n",
        "\n",
        "# Driven code\n",
        "printFibonacciNumbers(20)"
      ]
    },
    {
      "cell_type": "code",
      "execution_count": null,
      "id": "a17daf6b",
      "metadata": {
        "id": "a17daf6b",
        "outputId": "71506c5d-032b-4127-af94-a17fca80b78d"
      },
      "outputs": [
        {
          "name": "stdout",
          "output_type": "stream",
          "text": [
            "Enter your principal : 890\n",
            "Enter your rate of interest : 12\n",
            "Enter your time period in years : 8\n",
            "Your amount is Rs 2203.607226902382\n",
            "Your Compound interest is  1313.607226902382\n"
          ]
        }
      ],
      "source": [
        "## Write a program to find the compound interest\n",
        "\n",
        "p = int(input(\"Enter your principal : \"))\n",
        "r = int(input(\"Enter your rate of interest : \"))\n",
        "t = int(input(\"Enter your time period in years : \"))\n",
        "\n",
        "a = p*(1+r/100)**t\n",
        "print(\"Your amount is Rs\", a)\n",
        "\n",
        "ci = a-p\n",
        "print('Your Compound interest is ', ci)"
      ]
    },
    {
      "cell_type": "code",
      "execution_count": null,
      "id": "63d6430d",
      "metadata": {
        "id": "63d6430d",
        "outputId": "271b4434-5055-4398-c2e0-9df80a76c3ef"
      },
      "outputs": [
        {
          "name": "stdout",
          "output_type": "stream",
          "text": [
            "Enter an integer : 7\n",
            "n is : 7\n",
            "nn is : 49\n",
            "nnn is : 343\n",
            "Value of n+nn+nnn is : 399\n"
          ]
        }
      ],
      "source": [
        "## Write a Python program that accepts an integer (n) and computes the value of n+nn+nnn\n",
        "\n",
        "n = int(input(\"Enter an integer : \"))\n",
        "sum = int(n+n**2+n**3)\n",
        "print(\"n is :\", n)\n",
        "print(\"nn is :\", n**2)\n",
        "print(\"nnn is :\", n**3)\n",
        "\n",
        "print(\"Value of n+nn+nnn is :\", sum)"
      ]
    },
    {
      "cell_type": "code",
      "execution_count": null,
      "id": "8862d73b",
      "metadata": {
        "id": "8862d73b",
        "outputId": "fe1dbadb-4288-44f2-e545-85e27313838f"
      },
      "outputs": [
        {
          "name": "stdout",
          "output_type": "stream",
          "text": [
            "Enter a number : 908876\n",
            "Length of number is : 6\n"
          ]
        }
      ],
      "source": [
        "## Take a number from the user and find the number of digits in it\n",
        "\n",
        "num = int(input(\"Enter a number : \"))\n",
        "num= str(num)\n",
        "digits = len(num)\n",
        "\n",
        "print('Length of number is :' , digits)"
      ]
    },
    {
      "cell_type": "code",
      "execution_count": null,
      "id": "5950f319",
      "metadata": {
        "id": "5950f319",
        "outputId": "80c80533-f2b5-42df-a8f8-2a7e4e2cc5d4"
      },
      "outputs": [
        {
          "name": "stdout",
          "output_type": "stream",
          "text": [
            "Enter a number : 50\n",
            "1\n",
            "2\n",
            "5\n",
            "10\n",
            "25\n",
            "50\n"
          ]
        }
      ],
      "source": [
        "## Print all factors of a given number provided by the user\n",
        "\n",
        "x = int(input(\"Enter a number : \"))\n",
        "\n",
        "for i in range(1, x + 1):\n",
        "       if x % i == 0:\n",
        "            print(i)"
      ]
    },
    {
      "cell_type": "code",
      "execution_count": null,
      "id": "541b965d",
      "metadata": {
        "id": "541b965d",
        "outputId": "551eda6a-d476-45ac-f1fd-f38782765b20"
      },
      "outputs": [
        {
          "name": "stdout",
          "output_type": "stream",
          "text": [
            "Enter the number : 34567\n",
            "76543"
          ]
        }
      ],
      "source": [
        "## Find the reverse of a number provided by the user(any number of digit)\n",
        "num = int(input(\"Enter the number : \"))\n",
        "num = str(num)\n",
        "\n",
        "\n",
        "for i in range(len(num), 0, -1) :\n",
        "    num = int(num)\n",
        "    l = num%10\n",
        "    num = num//10\n",
        "    print( l, end = \"\")"
      ]
    },
    {
      "cell_type": "markdown",
      "id": "e49c6798",
      "metadata": {
        "id": "e49c6798"
      },
      "source": [
        "#### Write a program to print the following pattern\n",
        "\n",
        "    *\n",
        "    **\n",
        "    ***\n",
        "    ****\n",
        "    *****\n"
      ]
    },
    {
      "cell_type": "code",
      "execution_count": null,
      "id": "79c5f5e9",
      "metadata": {
        "id": "79c5f5e9",
        "outputId": "a1ce1b89-095c-4148-fa43-b3b5b77b71ac"
      },
      "outputs": [
        {
          "name": "stdout",
          "output_type": "stream",
          "text": [
            "*\n",
            "**\n",
            "***\n",
            "****\n",
            "*****\n"
          ]
        }
      ],
      "source": [
        "for i in range(1,6):\n",
        "    for j in range(1,6):\n",
        "        if i==j:\n",
        "            print(i*'*')"
      ]
    },
    {
      "cell_type": "markdown",
      "id": "1aa3a8f8",
      "metadata": {
        "id": "1aa3a8f8"
      },
      "source": [
        "#### Write a program to print the following pattern\n",
        "\n",
        "    *\n",
        "    **\n",
        "    ***\n",
        "    **\n",
        "    *\n"
      ]
    },
    {
      "cell_type": "code",
      "execution_count": null,
      "id": "89d34f4f",
      "metadata": {
        "id": "89d34f4f",
        "outputId": "6accead7-6b40-4391-9933-df6736e8c39c"
      },
      "outputs": [
        {
          "name": "stdout",
          "output_type": "stream",
          "text": [
            "*\n",
            "**\n",
            "***\n",
            "**\n",
            "*\n"
          ]
        }
      ],
      "source": [
        "for i in range(1,4):\n",
        "    for j in range(1,4):\n",
        "        if i==j:\n",
        "            print(i*'*')\n",
        "\n",
        "for i in range(2,0,-1):\n",
        "    for j in range(2,0,-1):\n",
        "        if i==j:\n",
        "            print(i*'*')"
      ]
    },
    {
      "cell_type": "markdown",
      "id": "3101f263",
      "metadata": {
        "id": "3101f263"
      },
      "source": [
        "#### Write  a program to print the following pattern\n",
        "\n",
        "            *\n",
        "          * * *\n",
        "        * * * * *\n",
        "       * * * * * * *\n",
        "    * * * * * * * * *\n",
        "\n"
      ]
    },
    {
      "cell_type": "code",
      "execution_count": null,
      "id": "4cdd5083",
      "metadata": {
        "id": "4cdd5083",
        "outputId": "3901ebce-3135-425f-a94e-1bf06b11f51a"
      },
      "outputs": [
        {
          "name": "stdout",
          "output_type": "stream",
          "text": [
            "Enter number of rows: 6\n",
            "          * \n",
            "        * * * \n",
            "      * * * * * \n",
            "    * * * * * * * \n",
            "  * * * * * * * * * \n",
            "* * * * * * * * * * * \n"
          ]
        }
      ],
      "source": [
        "rows = int(input(\"Enter number of rows: \"))\n",
        "\n",
        "k = 0\n",
        "\n",
        "for i in range(1, rows+1):\n",
        "    for space in range(1, (rows-i)+1):\n",
        "        print(end=\"  \")\n",
        "\n",
        "    while k!=(2*i-1):\n",
        "        print(\"* \", end=\"\")\n",
        "        k += 1\n",
        "\n",
        "    k = 0\n",
        "    print()"
      ]
    },
    {
      "cell_type": "markdown",
      "id": "50bf85a7",
      "metadata": {
        "id": "50bf85a7"
      },
      "source": [
        "#### Write a program to print the following pattern\n",
        "\n",
        "        *\n",
        "       * *\n",
        "      * * *\n",
        "     * * * *\n",
        "\n"
      ]
    },
    {
      "cell_type": "code",
      "execution_count": null,
      "id": "9bebe119",
      "metadata": {
        "id": "9bebe119",
        "outputId": "b85859ff-c17b-443d-e8e0-b83ded111325"
      },
      "outputs": [
        {
          "name": "stdout",
          "output_type": "stream",
          "text": [
            "Please enter the number of rows :7\n",
            "      * \n",
            "     * * \n",
            "    * * * \n",
            "   * * * * \n",
            "  * * * * * \n",
            " * * * * * * \n",
            "* * * * * * * \n"
          ]
        }
      ],
      "source": [
        "row = int(input(\"Please enter the number of rows :\"))\n",
        "\n",
        "for i in range(0, row):\n",
        "    for j in range(0, row-i-1):\n",
        "        print(end= ' ')\n",
        "    for k in range(0, i+1):\n",
        "        print('*', end= ' ')\n",
        "    print()"
      ]
    },
    {
      "cell_type": "markdown",
      "id": "59f096d0",
      "metadata": {
        "id": "59f096d0"
      },
      "source": [
        "#### Write a program to print the following pattern\n",
        "    1\n",
        "    1 2 1\n",
        "    1 2 3 2 1\n",
        "    1 2 3 4 3 2 1\n",
        "    1 2 3 4 5 4 3 2 1\n"
      ]
    },
    {
      "cell_type": "code",
      "execution_count": null,
      "id": "c762b463",
      "metadata": {
        "id": "c762b463",
        "outputId": "2138325e-a923-42c3-f0d5-0b18b6e7fc6b"
      },
      "outputs": [
        {
          "name": "stdout",
          "output_type": "stream",
          "text": [
            "Enter number of rows : 6\n",
            "1  \n",
            "1 2 1  \n",
            "1 2 3 2 1  \n",
            "1 2 3 4 3 2 1  \n",
            "1 2 3 4 5 4 3 2 1  \n",
            "1 2 3 4 5 6 5 4 3 2 1  \n"
          ]
        }
      ],
      "source": [
        "row = int(input('Enter number of rows : '))\n",
        "\n",
        "for i in range(1, row+1) :\n",
        "    for j in range(1, i+1) :\n",
        "        print(j, end = ' ')\n",
        "    for k in range(i-1, 0, -1):\n",
        "        print(k, end =' ')\n",
        "    print(' ')\n",
        ""
      ]
    },
    {
      "cell_type": "markdown",
      "id": "909bfe06",
      "metadata": {
        "id": "909bfe06"
      },
      "source": [
        "#### Write a program to print the following pattern\n",
        "    1\n",
        "    2 3\n",
        "    4 5 6\n",
        "    7 8 9 10\n"
      ]
    },
    {
      "cell_type": "code",
      "execution_count": null,
      "id": "b7023f26",
      "metadata": {
        "id": "b7023f26",
        "outputId": "8a89d2d7-aa80-410e-9a9c-51bfdcb468ea"
      },
      "outputs": [
        {
          "name": "stdout",
          "output_type": "stream",
          "text": [
            "Enter number of rows : 7\n",
            "1 \n",
            "2 3 \n",
            "4 5 6 \n",
            "7 8 9 10 \n",
            "11 12 13 14 15 \n",
            "16 17 18 19 20 21 \n",
            "22 23 24 25 26 27 28 \n"
          ]
        }
      ],
      "source": [
        "row = int(input('Enter number of rows : '))\n",
        "k=1\n",
        "\n",
        "for i in range(1, row+1) :\n",
        "    for j in range(1, i+1) :\n",
        "        print(k, end=' ')\n",
        "        k = k+1\n",
        "\n",
        "    print(\"\\r\")"
      ]
    },
    {
      "cell_type": "code",
      "execution_count": null,
      "id": "6e78434b",
      "metadata": {
        "id": "6e78434b",
        "outputId": "baa03339-1409-4e4e-edf4-348315c49a2b"
      },
      "outputs": [
        {
          "name": "stdout",
          "output_type": "stream",
          "text": [
            "Enter the number : 8\n",
            "2.7182539682539684\n"
          ]
        }
      ],
      "source": [
        "## Write a program to calculate the sum of the following series till the nth term :- 1/1! + 2/2! + 3/3! + 4/4! +…….+ n/n!\n",
        "## n will be provided by the user\n",
        "\n",
        "num = int(input('Enter the number : '))\n",
        "result = 0\n",
        "fact = 1\n",
        "\n",
        "for i in range (1, num+1):\n",
        "    fact = fact*i\n",
        "    result = result + (i/fact)\n",
        "print(result)"
      ]
    },
    {
      "cell_type": "code",
      "execution_count": null,
      "id": "6e14f6ed",
      "metadata": {
        "scrolled": true,
        "id": "6e14f6ed",
        "outputId": "4ca34d98-a3a5-4549-8819-be3938311b57"
      },
      "outputs": [
        {
          "name": "stdout",
          "output_type": "stream",
          "text": [
            "Enter your number : 11\n",
            "Enter nth value : 4\n",
            "4165.416666666667\n"
          ]
        }
      ],
      "source": [
        "## Write a Python Program to Find the Sum of the Series till the nth term :- 1 + x^2/2 + x^3/3 + … x^n/n\n",
        "## n will be provided by the user\n",
        "\n",
        "\n",
        "x = int(input('Enter your number : '))\n",
        "num = int(input('Enter nth value : '))\n",
        "\n",
        "sum = 1\n",
        "\n",
        "for i in range (2, num+1):\n",
        "    sum = sum + ((x**i)/i)\n",
        "\n",
        "print(sum)"
      ]
    },
    {
      "cell_type": "markdown",
      "id": "76a13e41",
      "metadata": {
        "id": "76a13e41"
      },
      "source": [
        "### The natural logarithm can be approximated by the following series.\n",
        "\n",
        "#### If x is input through the keyboard, write a program to calculate the sum of the first seven terms of this series.\n",
        "\n",
        "![](https://media.cheggcdn.com/media/c64/c64e1a30-a1f9-4dfc-9722-6ffefe7b1368/phpOJW3Ov.png)"
      ]
    },
    {
      "cell_type": "code",
      "execution_count": null,
      "id": "e67d3fe0",
      "metadata": {
        "id": "e67d3fe0",
        "outputId": "0dc6047c-c5b4-4ca6-c108-32e88b363568"
      },
      "outputs": [
        {
          "name": "stdout",
          "output_type": "stream",
          "text": [
            "Enter your number : 7\n",
            "2.408821397304087\n"
          ]
        }
      ],
      "source": [
        "##The natural logarithm can be approximated by the following series.\n",
        "##If x is input through the keyboard, write a program to calculate the sum of the first seven terms of this series.\n",
        "\n",
        "n=7\n",
        "sum=0\n",
        "x = int(input('Enter your number : '))\n",
        "for i in range(1,n+1):\n",
        "    if i==1 :\n",
        "        sum = (x-1)/x\n",
        "    else:\n",
        "        sum = sum+( (0.5*(((x-1)/x)**i)) )\n",
        "print(sum)\n"
      ]
    },
    {
      "cell_type": "code",
      "execution_count": null,
      "id": "88744a64",
      "metadata": {
        "id": "88744a64",
        "outputId": "2b2a1360-aa08-48db-a0f9-57707ccdb87a"
      },
      "outputs": [
        {
          "name": "stdout",
          "output_type": "stream",
          "text": [
            "Please enter a number : 8\n",
            "Please enter a number : 9\n",
            "Please enter a number : 11\n",
            "Please enter a number : 23\n",
            "Please enter a number : 44\n",
            "Please enter a number : 854\n",
            "Please enter a number : 99\n",
            "Please enter a number : 0\n",
            "\n",
            "Sum is : 1048 and Average of all numbers enter is : 149.71428571428572\n"
          ]
        }
      ],
      "source": [
        "# Write a program that keeps on accepting a number from the user until the user enters Zero.\n",
        "## Display the sum and average of all the numbers.\n",
        "\n",
        "i=1\n",
        "count = 1\n",
        "su=0\n",
        "\n",
        "\n",
        "while i!=0 :\n",
        "    x = int(input('Please enter a number : '))\n",
        "    i = x\n",
        "    if x==0:\n",
        "        break\n",
        "    else :\n",
        "        su =su+x\n",
        "        avg = su/count\n",
        "        count = count+1\n",
        "    continue\n",
        "\n",
        "print ('\\nSum is :' , su, 'and Average of all numbers enter is :' , avg)"
      ]
    },
    {
      "cell_type": "code",
      "execution_count": null,
      "id": "ea7cb9da",
      "metadata": {
        "id": "ea7cb9da",
        "outputId": "21a41a9b-34e2-4756-f21e-1ec3499799fa"
      },
      "outputs": [
        {
          "name": "stdout",
          "output_type": "stream",
          "text": [
            "Please enter the numerator : 78\n",
            "Please enter the denominator : 9\n",
            "8.666666666666666\n"
          ]
        }
      ],
      "source": [
        "# Write a program that accepts 2 numbers from the user a numerator and a denominator and then simplifies it\n",
        "## Eg if the num = 5, den = 15 the answer should be ⅓\n",
        "### Eg if the num = 6, den = 9 the answer should be ⅔\n",
        "\n",
        "num  = int(input('Please enter the numerator : '))\n",
        "den  = int(input('Please enter the denominator : '))\n",
        "\n",
        "a = num\n",
        "b= den\n",
        "\n",
        "while num % den !=0:\n",
        "    rem = num%den\n",
        "    num = den\n",
        "    den = rem\n",
        "\n",
        "hcf = den\n",
        "a = a/hcf\n",
        "b = b/hcf\n",
        "print(a/b)\n",
        ""
      ]
    },
    {
      "cell_type": "code",
      "execution_count": null,
      "id": "1396a69f",
      "metadata": {
        "id": "1396a69f",
        "outputId": "57042679-8471-476d-b388-53d094153d33"
      },
      "outputs": [
        {
          "name": "stdout",
          "output_type": "stream",
          "text": [
            "Enter a string : My name is Anushka\n",
            "Length of string entered is  18\n"
          ]
        }
      ],
      "source": [
        "## Find the length of a given string without using the len() function.\n",
        "\n",
        "counter =0\n",
        "string = input ('Enter a string : ')\n",
        "for item in string :\n",
        "    counter = counter+1\n",
        "print(\"Length of string entered is \", counter)"
      ]
    },
    {
      "cell_type": "code",
      "execution_count": null,
      "id": "0260efcb",
      "metadata": {
        "id": "0260efcb",
        "outputId": "c1eaa3f3-dd63-4549-cd66-9f972110f85f"
      },
      "outputs": [
        {
          "name": "stdout",
          "output_type": "stream",
          "text": [
            "Enter your email id : anushka311@yahoo.com\n",
            "Username is : anushka311\n"
          ]
        }
      ],
      "source": [
        "# Extract username from a given email.\n",
        "## Eg if the email is nitish24singh@gmail.com then the username should be nitish24singh\n",
        "\n",
        "#username=\"\"\n",
        "email = input ('Enter your email id : ')\n",
        "\n",
        "#for item in email:\n",
        "#   while(item!='@'):\n",
        "#      username= username+item\n",
        "\n",
        "#print ('username is :', username)\n",
        "\n",
        "username,mail = email.split('@')\n",
        "print('Username is :', username)"
      ]
    },
    {
      "cell_type": "code",
      "execution_count": null,
      "id": "d6990bc8",
      "metadata": {
        "id": "d6990bc8",
        "outputId": "ae3711bb-a996-4dbb-a353-31fef2a61c9a"
      },
      "outputs": [
        {
          "name": "stdout",
          "output_type": "stream",
          "text": [
            "Enter a string : kuch toh hai\n",
            "Enter the character : h\n",
            "3\n"
          ]
        }
      ],
      "source": [
        "#Count the frequency of a particular character in a provided string.\n",
        "## Eg 'hello how are you' is the string,  the frequency of h in this string is 2.\n",
        "\n",
        "counter = 0\n",
        "\n",
        "string = input ('Enter a string : ')\n",
        "char = input ('Enter the character : ')\n",
        "\n",
        "for item in string :\n",
        "    if item==char:\n",
        "        counter =counter+1\n",
        "print(counter)"
      ]
    },
    {
      "cell_type": "code",
      "execution_count": null,
      "id": "dc2ddece",
      "metadata": {
        "id": "dc2ddece",
        "outputId": "b3a69ab7-6d3d-47ec-a2c7-c00659b3bf62"
      },
      "outputs": [
        {
          "name": "stdout",
          "output_type": "stream",
          "text": [
            "Enter a string : What can happen will happen\n",
            "Enter the character : t\n",
            "3\n"
          ]
        }
      ],
      "source": [
        "## Find the index position of a particular character in another string.\n",
        "\n",
        "string = input ('Enter a string : ')\n",
        "char = input ('Enter the character : ')\n",
        "\n",
        "counter = 0\n",
        "\n",
        "for item in string :\n",
        "    if item!=char:\n",
        "        counter = counter+1\n",
        "    else :\n",
        "        break\n",
        "print(counter)\n",
        "\n",
        ""
      ]
    },
    {
      "cell_type": "code",
      "execution_count": null,
      "id": "6d9d5bf9",
      "metadata": {
        "id": "6d9d5bf9",
        "outputId": "056048dc-fcd0-4b03-8c83-58b313538891"
      },
      "outputs": [
        {
          "name": "stdout",
          "output_type": "stream",
          "text": [
            "Enter a string : Will you have toast for breakfast today ?\n",
            "Number of vowels :  13\n"
          ]
        }
      ],
      "source": [
        "# Count the number of vowels in a string provided by the user.\n",
        "\n",
        "counter = 0\n",
        "string = input ('Enter a string : ')\n",
        "vowels = ('aeiouAEIOU')\n",
        "\n",
        "for item in string :\n",
        "    if item in vowels :\n",
        "        counter = counter+1\n",
        "    else:\n",
        "        pass\n",
        "print('Number of vowels : ', counter)"
      ]
    },
    {
      "cell_type": "code",
      "execution_count": null,
      "id": "83bd42f6",
      "metadata": {
        "id": "83bd42f6",
        "outputId": "a73684fa-62b7-4eed-c515-9fda6453f8d6"
      },
      "outputs": [
        {
          "name": "stdout",
          "output_type": "stream",
          "text": [
            "Enter a string : Never ever give up\n",
            "Enter the character : e\n",
            "Nvr vr giv up\n"
          ]
        }
      ],
      "source": [
        "#Write a program which can remove a particular character from a string\n",
        "\n",
        "string = input ('Enter a string : ')\n",
        "char = input ('Enter the character : ')\n",
        "for item in string :\n",
        "    if item==char:\n",
        "        string = string.replace(item, '')\n",
        "\n",
        "\n",
        "print(string)"
      ]
    },
    {
      "cell_type": "code",
      "execution_count": null,
      "id": "7c3cec2c",
      "metadata": {
        "id": "7c3cec2c",
        "outputId": "8ed294d1-e8f8-4c9d-e3b8-825b654c4997"
      },
      "outputs": [
        {
          "name": "stdout",
          "output_type": "stream",
          "text": [
            "Enter a string : Naina\n",
            "String is not palindrome\n"
          ]
        }
      ],
      "source": [
        "# Write a program that can check whether a given string is palindrome or not.\n",
        "\n",
        "string = input ('Enter a string : ')\n",
        "\n",
        "rev = string[::-1]\n",
        "if string==rev:\n",
        "    print('String is palindrome')\n",
        "else :\n",
        "    print('String is not palindrome')"
      ]
    },
    {
      "cell_type": "code",
      "execution_count": null,
      "id": "d8796ce6",
      "metadata": {
        "id": "d8796ce6",
        "outputId": "29efda2f-1bcd-4161-9606-dace16463767"
      },
      "outputs": [
        {
          "name": "stdout",
          "output_type": "stream",
          "text": [
            "[2, 9, 0, 5, 8, 4, 7, 1]\n"
          ]
        }
      ],
      "source": [
        "## Write a python program to remove all the duplicates from a list\n",
        "\n",
        "lst = [2,9,0,5,8,5,4,2,7,2,0,1]\n",
        "\n",
        "b = []\n",
        "for item in lst :\n",
        "    if item not in b :\n",
        "        b.append(item)\n",
        "print(b)"
      ]
    },
    {
      "cell_type": "code",
      "execution_count": null,
      "id": "0181872b",
      "metadata": {
        "id": "0181872b",
        "outputId": "3775285e-459c-4c34-cca9-d5377e6839e9"
      },
      "outputs": [
        {
          "name": "stdout",
          "output_type": "stream",
          "text": [
            "Enter a string : just to BE sURe!\n",
            "Entered string in the form of list : ['just', 'to', 'BE', 'sURe!']\n",
            "Just To Be Sure! \n"
          ]
        }
      ],
      "source": [
        "## Write a python program to convert a string to title case without using the title()\n",
        "\n",
        "#The titlecase is a capitalization style used for titles so that the first letter of each word is uppercase\n",
        "##and the remaining letters are lowercase. For example: Python Title Case Tutorial\n",
        "\n",
        "string = input ('Enter a string : ')\n",
        "# we will convert this string into a list of strings\n",
        "lst = string.split()\n",
        "print('Entered string in the form of list :' , lst)\n",
        "final=''\n",
        "\n",
        "for item in lst :\n",
        "    final = final + item[0].upper()+item[1:].lower()+ ' '\n",
        "\n",
        "\n",
        "print(final)"
      ]
    },
    {
      "cell_type": "code",
      "execution_count": null,
      "id": "cb77c4bc",
      "metadata": {
        "id": "cb77c4bc",
        "outputId": "b34d601e-c722-47fd-861d-5002a199c1a8"
      },
      "outputs": [
        {
          "name": "stdout",
          "output_type": "stream",
          "text": [
            "9\n"
          ]
        }
      ],
      "source": [
        "# Write a python program to find the max item from a list without using the max function\n",
        "\n",
        "lst = [2,0,5,8,5,4,2,7,2,0,1,9]\n",
        "n = 0\n",
        "for item in lst :\n",
        "    if item>n:\n",
        "        n = item\n",
        "\n",
        "print(n)"
      ]
    },
    {
      "cell_type": "code",
      "execution_count": null,
      "id": "03a22212",
      "metadata": {
        "id": "03a22212",
        "outputId": "58ff0499-b9fb-442c-eed7-b5648f2b05af"
      },
      "outputs": [
        {
          "name": "stdout",
          "output_type": "stream",
          "text": [
            "Reversed list is : ['baJPAi', 'ANUSHKA', 'hello']\n"
          ]
        }
      ],
      "source": [
        "# Write a python program to reverse a list\n",
        "\n",
        "lst =   ['hello', 'ANUSHKA', 'baJPAi']\n",
        "rev = []\n",
        "\n",
        "for item in lst[: :-1]:\n",
        "    rev.append(item)\n",
        "\n",
        "print('Reversed list is :', rev)"
      ]
    },
    {
      "cell_type": "code",
      "execution_count": null,
      "id": "303599e2",
      "metadata": {
        "id": "303599e2",
        "outputId": "792dfd00-ad07-42c6-a692-164af4eba78b"
      },
      "outputs": [
        {
          "name": "stdout",
          "output_type": "stream",
          "text": [
            "Enter number to search : 5\n",
            "Number found\n"
          ]
        }
      ],
      "source": [
        "## Write a python program to search a given number from a list\n",
        "\n",
        "lst = [2,0,5,8,5,4,2,7,2,0,1,9]\n",
        "\n",
        "num = int(input ('Enter number to search : '))\n",
        "\n",
        "for item in lst :\n",
        "    if item==num:\n",
        "        print('Number found')\n",
        "        break\n",
        "else :\n",
        "    print('Not found')\n",
        ""
      ]
    },
    {
      "cell_type": "code",
      "execution_count": null,
      "id": "e5f4fcff",
      "metadata": {
        "id": "e5f4fcff",
        "outputId": "3a419399-3dd6-4543-ba4e-79b533d881b7"
      },
      "outputs": [
        {
          "name": "stdout",
          "output_type": "stream",
          "text": [
            "New squared list :  [4, 0, 64, 25, 49, 4, 1, 81]\n"
          ]
        }
      ],
      "source": [
        "# Write a program that can create a new list from a given list\n",
        "## where each item in the new list is square of the item of the old list\n",
        "\n",
        "lst = [2,0,8,5,7,2,1,9]\n",
        "sq = []\n",
        "\n",
        "for item in lst :\n",
        "    sq.append(item*item)\n",
        "print('New squared list : ', sq)"
      ]
    },
    {
      "cell_type": "code",
      "execution_count": null,
      "id": "c2be0883",
      "metadata": {
        "id": "c2be0883",
        "outputId": "46788aa3-f466-455b-b1d2-7a1897e99681"
      },
      "outputs": [
        {
          "name": "stdout",
          "output_type": "stream",
          "text": [
            "Enter a string : It's raining heavily \n",
            "Reversed string is : heavily raining It's \n"
          ]
        }
      ],
      "source": [
        "#Write a program that can reverse words of a given string.\n",
        "## Eg:  Hello how are you\n",
        "### Output : you are how Hello\n",
        "\n",
        "string = input ('Enter a string : ')\n",
        "string = string.split()\n",
        "rev = ''\n",
        "\n",
        "for item in string[: : -1] :\n",
        "    rev = rev + item + \" \"\n",
        "\n",
        "print('Reversed string is :' , rev)\n"
      ]
    },
    {
      "cell_type": "code",
      "execution_count": null,
      "id": "8783e599",
      "metadata": {
        "id": "8783e599",
        "outputId": "a65e6fe5-b782-4d00-ba7a-ff85d07ca33e"
      },
      "outputs": [
        {
          "name": "stdout",
          "output_type": "stream",
          "text": [
            "Enter a string : Cherish every moment in life\n",
            "number of items in the given string are : 5\n"
          ]
        }
      ],
      "source": [
        "## Write a program that can count the number of words in a given string\n",
        "\n",
        "string = input ('Enter a string : ')\n",
        "string = string.split()\n",
        "\n",
        "count = 0\n",
        "\n",
        "for item in string:\n",
        "    count = count+1\n",
        "\n",
        "print('number of items in the given string are :', count)"
      ]
    },
    {
      "cell_type": "code",
      "execution_count": null,
      "id": "4c8512fb",
      "metadata": {
        "id": "4c8512fb",
        "outputId": "781e35c1-08c4-45a9-fc87-0d87f6ee5fa2"
      },
      "outputs": [
        {
          "name": "stdout",
          "output_type": "stream",
          "text": [
            "List is ascending\n",
            "List is ascending\n",
            "List is ascending\n",
            "List is ascending\n"
          ]
        }
      ],
      "source": [
        "## Write a program to check if a list is in ascending order or not\n",
        "\n",
        "lst = [1,2,3,4]\n",
        "asc = 0\n",
        "\n",
        "for item in lst :\n",
        "    if asc <= item:\n",
        "        asc = item\n",
        "        #print('List is ascending')\n",
        "\n",
        "    else :\n",
        "        print (\"List is not ascending\")\n",
        "        break"
      ]
    },
    {
      "cell_type": "code",
      "execution_count": null,
      "id": "bbeada5f",
      "metadata": {
        "id": "bbeada5f",
        "outputId": "d9fef3bf-5474-474d-886b-06c02cde082f"
      },
      "outputs": [
        {
          "name": "stdout",
          "output_type": "stream",
          "text": [
            "Odd list : [5, 7, 1, 9] and Even List : [2, 0, 8, 2]\n"
          ]
        }
      ],
      "source": [
        "## Create 2 lists from a given list where 1st list will contain all the odd numbers from the original list\n",
        "### and the 2nd one will contain all the even numbers\n",
        "\n",
        "lst = [2,0,8,5,7,2,1,9]\n",
        "asc = 0\n",
        "odd=[]\n",
        "even=[]\n",
        "\n",
        "for item in lst :\n",
        "    if item%2==0:\n",
        "        even.append(item)\n",
        "\n",
        "    else :\n",
        "        odd.append(item)\n",
        "\n",
        "print('Odd list :', odd, 'and Even List :', even)\n",
        ""
      ]
    },
    {
      "cell_type": "code",
      "execution_count": null,
      "id": "afbe5287",
      "metadata": {
        "id": "afbe5287",
        "outputId": "4358933d-7e0e-4d47-d353-bbeb6cfdde42"
      },
      "outputs": [
        {
          "name": "stdout",
          "output_type": "stream",
          "text": [
            "Merged list is : [2, 0, 8, 9, 1, 7, 6, 3]\n"
          ]
        }
      ],
      "source": [
        "## Write a program to merge 2 list without using the + operator\n",
        "\n",
        "l1 = [2,0,8,9]\n",
        "l2 = [1,7,6,3]\n",
        "\n",
        "merged = []\n",
        "\n",
        "for item in l1 :\n",
        "    merged.append(item)\n",
        "for item in l2 :\n",
        "    merged.append(item)\n",
        "\n",
        "print('Merged list is :' , merged)"
      ]
    },
    {
      "cell_type": "code",
      "execution_count": null,
      "id": "008dd272",
      "metadata": {
        "id": "008dd272",
        "outputId": "7bffd922-823a-47d6-97ea-1dc0d732d7ed"
      },
      "outputs": [
        {
          "name": "stdout",
          "output_type": "stream",
          "text": [
            "Enter the number you would like to replace :4\n",
            "Enter what you want to replace it with : 3\n",
            "Number not found\n"
          ]
        }
      ],
      "source": [
        "## Write a program to replace an item with a different item if found in the list\n",
        "\n",
        "l = [2, 0, 8, 9, 1, 7, 6, 3]\n",
        "\n",
        "find = int(input('Enter the number you would like to replace :'))\n",
        "rep = int(input('Enter what you want to replace it with : '))\n",
        "\n",
        "for i in range(0, len(l)) :\n",
        "    if find == l[i]:\n",
        "        l[i] = rep\n",
        "        print(l)\n",
        "        break\n",
        "else :\n",
        "    print('Number not found')\n",
        ""
      ]
    },
    {
      "cell_type": "code",
      "execution_count": null,
      "id": "9a3c2909",
      "metadata": {
        "id": "9a3c2909",
        "outputId": "bf98962d-fc65-4b32-d63f-af189d9f15cf"
      },
      "outputs": [
        {
          "name": "stdout",
          "output_type": "stream",
          "text": [
            "initial list  [[1, 2, 3], [3, 6, 7], [7, 5, 4]]\n",
            "Flattened List is :  [1, 2, 3, 3, 6, 7, 7, 5, 4]\n"
          ]
        }
      ],
      "source": [
        "# Write a program that can convert a 2D list to 1D list\n",
        "\n",
        "import numpy as np\n",
        "l1 = [[1, 2, 3],[3, 6, 7], [7 ,5, 4]]\n",
        "\n",
        "print (\"initial list \", str(l1))\n",
        "\n",
        "flatten_list = []\n",
        "for item in l1 :\n",
        "    if type(item)==list :\n",
        "        flatten_list.extend(item)\n",
        "\n",
        "    else:\n",
        "        flatten_list.append(item)\n",
        "print('Flattened List is : ', flatten_list)\n",
        "\n",
        "# one line solution\n",
        "#print(\"Flattened List \",list(np.concatenate(l1).flat))"
      ]
    },
    {
      "cell_type": "code",
      "execution_count": null,
      "id": "af4d3235",
      "metadata": {
        "id": "af4d3235",
        "outputId": "60376686-13e4-4844-d0a2-59d50be94551"
      },
      "outputs": [
        {
          "name": "stdout",
          "output_type": "stream",
          "text": [
            "Union is : [2, 0, 8, 9, 1, 7, 0, 6, 3] and Intersection is : [1, 7]\n"
          ]
        }
      ],
      "source": [
        "# Write a program that can perform union and intersection on 2 given list.\n",
        "\n",
        "\n",
        "l1 = [2,0,8,9,1,7,0]\n",
        "l2 = [1,7,6,3]\n",
        "\n",
        "union = []\n",
        "\n",
        "inter = []\n",
        "for item in l1 :\n",
        "    if item in l2 :\n",
        "        inter.append(item)\n",
        "\n",
        "for p in l1:\n",
        "    union.append(p)\n",
        "for q in l2:\n",
        "    if q not in union:\n",
        "        union.append(q)\n",
        "\n",
        "print('Union is :', union, 'and Intersection is :', inter)\n",
        ""
      ]
    },
    {
      "cell_type": "code",
      "execution_count": null,
      "id": "a85ae55b",
      "metadata": {
        "id": "a85ae55b",
        "outputId": "a8dc7c0e-5504-4bd5-d46b-378178aed978"
      },
      "outputs": [
        {
          "name": "stdout",
          "output_type": "stream",
          "text": [
            "max : 3\n",
            "max : 7\n",
            "max : 7\n"
          ]
        }
      ],
      "source": [
        "# Write a program that can print the max item of each row of a matrix\n",
        "\n",
        "l1 = [[1, 2, 3],[3, 6, 7], [7 ,5, 4]]\n",
        "\n",
        "for item in l1:\n",
        "    max = 0\n",
        "    for i in item :\n",
        "        if i>max:\n",
        "            max = i\n",
        "    print('max :', max)\n",
        "\n",
        "\n"
      ]
    },
    {
      "cell_type": "code",
      "execution_count": null,
      "id": "20e9f4f0",
      "metadata": {
        "id": "20e9f4f0",
        "outputId": "62fca1fd-9702-47fc-bc11-402e5e4848c5"
      },
      "outputs": [
        {
          "name": "stdout",
          "output_type": "stream",
          "text": [
            "Enter an integer :78\n",
            "78\n",
            "<class 'str'>\n",
            "<class 'str'>\n"
          ]
        }
      ],
      "source": [
        "## Write a program that can convert an integer to string.\n",
        "\n",
        "n = int(input('Enter an integer :'))\n",
        "n = str(n)\n",
        "print(n)\n",
        "print(type(n))\n",
        "\n",
        "## without using str\n",
        "\n",
        "def convert(num) :\n",
        "    digits = '0123456789'\n",
        "    res = ''\n",
        "    while num !=0 :\n",
        "        curr = num%10\n",
        "        res = digits[curr]+res\n",
        "        num = num// 10\n",
        "\n",
        "    return res\n",
        "print (type(convert(43)))\n"
      ]
    },
    {
      "cell_type": "code",
      "execution_count": null,
      "id": "8f33d2cb",
      "metadata": {
        "id": "8f33d2cb",
        "outputId": "28dea837-54ce-458a-a604-59cd1cbdded1"
      },
      "outputs": [
        {
          "name": "stdout",
          "output_type": "stream",
          "text": [
            "Dimension of matrix is : [ 3 , 2 ]\n"
          ]
        }
      ],
      "source": [
        "## Write a program to print the shape of a matrix\n",
        "\n",
        "l1 = [[1, 8],[6, 9], [7, 4]]\n",
        "\n",
        "row = 0\n",
        "col = 0\n",
        "\n",
        "for item in l1 :\n",
        "    if type(item)==list:\n",
        "        row = row+1\n",
        "for item in l1 :\n",
        "    for i in item :\n",
        "        col = col+1\n",
        "    break\n",
        "\n",
        "\n",
        "print('Dimension of matrix is : [', row,',',col, ']')"
      ]
    },
    {
      "cell_type": "code",
      "execution_count": null,
      "id": "10eeafcb",
      "metadata": {
        "id": "10eeafcb",
        "outputId": "be85c8e6-4df0-4e8c-d262-14090db7e83b"
      },
      "outputs": [
        {
          "name": "stdout",
          "output_type": "stream",
          "text": [
            "Dimension of matrix 1 is :  [2, 2]\n",
            "Dimension of matrix 2 is :  [3, 2]\n",
            "matrix multiplication is not possible\n"
          ]
        }
      ],
      "source": [
        "## Write a program that can check if you can perform matrix multiplication on 2 matrices\n",
        "\n",
        "l2 = [[1, 8],[6, 9], [7, 4]]\n",
        "l1 = [[1, 8],[6, 9]]\n",
        "\n",
        "row = 0\n",
        "col = 0\n",
        "emp = []\n",
        "\n",
        "for item in l1 :\n",
        "    if type(item)==list:\n",
        "        row = row+1\n",
        "emp.append(row)\n",
        "for item in l1 :\n",
        "    for i in item :\n",
        "        col = col+1\n",
        "    break\n",
        "emp.append(col)\n",
        "\n",
        "print('Dimension of matrix 1 is : ', emp)\n",
        "\n",
        "emp1 = []\n",
        "row = 0\n",
        "col = 0\n",
        "\n",
        "for item in l2 :\n",
        "    if type(item)==list:\n",
        "        row = row+1\n",
        "emp1.append(row)\n",
        "for item in l2 :\n",
        "    for i in item :\n",
        "        col = col+1\n",
        "    break\n",
        "emp1.append(col)\n",
        "\n",
        "print('Dimension of matrix 2 is : ', emp1)\n",
        "\n",
        "if emp[1] == emp1[0] :\n",
        "    print(\"matrix multiplication is possible\")\n",
        "else :\n",
        "    print(\"matrix multiplication is not possible\")\n"
      ]
    },
    {
      "cell_type": "code",
      "execution_count": null,
      "id": "3916e8ab",
      "metadata": {
        "id": "3916e8ab",
        "outputId": "f36a380f-06c5-42a7-97c7-611c56a6c9bf"
      },
      "outputs": [
        {
          "name": "stdout",
          "output_type": "stream",
          "text": [
            "[114, 160, 60, 27]\n",
            "[74, 97, 73, 14]\n",
            "[119, 157, 112, 23]\n"
          ]
        }
      ],
      "source": [
        "## Write a program to perform matrix multiplication on 2 matrices\n",
        "\n",
        "# 3x3 matrix\n",
        "X = [[12,7,3],\n",
        "    [4 ,5,6],\n",
        "    [7 ,8,9]]\n",
        "\n",
        "# 3x4 matrix\n",
        "Y = [[5,8,1,2],\n",
        "    [6,7,3,0],\n",
        "    [4,5,9,1]]\n",
        "\n",
        "# result is 3x4\n",
        "result = [[0,0,0,0],\n",
        "         [0,0,0,0],\n",
        "         [0,0,0,0]]\n",
        "\n",
        "# iterate through rows of X\n",
        "for i in range(len(X)):\n",
        "   # iterate through columns of Y\n",
        "   for j in range(len(Y[0])):\n",
        "       # iterate through rows of Y\n",
        "       for k in range(len(Y)):\n",
        "            result[i][j] += X[i][k] * Y[k][j]\n",
        "\n",
        "for r in result:\n",
        "    print(r)\n",
        ""
      ]
    },
    {
      "cell_type": "code",
      "execution_count": null,
      "id": "a5e8c6c4",
      "metadata": {
        "id": "a5e8c6c4",
        "outputId": "658d87ff-49fc-40d3-c31a-a7623189f928"
      },
      "outputs": [
        {
          "name": "stdout",
          "output_type": "stream",
          "text": [
            "[0, 0, 1, 2, 7, 8, 9]\n"
          ]
        }
      ],
      "source": [
        "#Write a program that can sort a given unsorted list. Dont use any built in function for sorting.\n",
        "\n",
        "\n",
        "l1 = [2,0,8,9,1,7,0]\n",
        "for item in range(len(l1)) :\n",
        "    for k in range(0, len(l1)-1):\n",
        "        if l1[k]>l1[k+1]:\n",
        "            temp = l1[k]\n",
        "            l1[k] = l1[k+1]\n",
        "            l1[k+1] = temp\n",
        "\n",
        "\n",
        "print(l1)\n",
        "\n",
        ""
      ]
    },
    {
      "cell_type": "code",
      "execution_count": null,
      "id": "d8dc314c",
      "metadata": {
        "id": "d8dc314c",
        "outputId": "a754d336-defc-4ebc-dd3c-5fdc58ed575e"
      },
      "outputs": [
        {
          "name": "stdout",
          "output_type": "stream",
          "text": [
            "Hain 13\n"
          ]
        }
      ],
      "source": [
        "# Write a program that can find the most used word in a bollywood song\n",
        "\n",
        "song = '''Kyun Aajkal Neend Kam Khwaab Jyada Hai\n",
        "Lagta Khuda Ka Koi Nek Iraada Hain\n",
        "Kal Ka Fakir Dil Aaj Shehzada Hain\n",
        "Lagta Khuda Ka Koi Nek Iraada Hain\n",
        "( Kya Mujhe Pyar Hain Aah\n",
        "Kaisa Khumaar Hain Aah )... (x2)\n",
        "\n",
        "\n",
        "Pathhar Ke Inn Raston Pe\n",
        "Phoolon Ki Ek Chadar Hain\n",
        "Jabse Milen Ho Hamko\n",
        "Badla Har Ek Manzar Hain\n",
        "Dekho Jahaan Mein Neele Neele Aasmaan Tale\n",
        "Rang Naye Naye Hain Jaise Ghulte Hue\n",
        "Soye The Khwaab Mere Jaage Tere Waaste\n",
        "Tere Khayaalon Me Hai Bheege Mere Raaste\n",
        "( Kya Mujhe Pyar Hain Aah\n",
        "Kaisa Khumaar Hain Aah )... (x2)\n",
        "\n",
        "\n",
        "Tum Kyon Chale Aate Ho\n",
        "Har Roj In Khwaabon Mein\n",
        "Chupke Se Aa Bhi Jaaon\n",
        "Ek Din Meri Baahon Mein\n",
        "Tere Hi Sapanen Andheron Mein Ujaalon Mein\n",
        "Koi Nasha Hain Teri Aankhon Ke Pyaalon Mein\n",
        "Tu Mere Khwaabon Mein Jawaabon Mein Sawaalon Mein\n",
        "Har Din Chura Tumehn Main Laata Hoon Khayalon Mein\n",
        "( Kya Mujhe Pyar Hain Aah\n",
        "Kaisa Khumaar Hain Aah )'''\n",
        "\n",
        "most_used = {}\n",
        "counter = 0\n",
        "for word in song.split():\n",
        "    if word in most_used:\n",
        "        most_used[word]= most_used[word]+1\n",
        "    else :\n",
        "        most_used[word]=1\n",
        "\n",
        "max_word = max(most_used.values())\n",
        "\n",
        "for i in most_used:\n",
        "    if most_used[i] == max_word:\n",
        "        print(i, max_word)\n",
        "        break\n"
      ]
    },
    {
      "cell_type": "code",
      "execution_count": null,
      "id": "c832a48a",
      "metadata": {
        "id": "c832a48a",
        "outputId": "2b966734-56a6-4934-f047-a4563f690276"
      },
      "outputs": [
        {
          "name": "stdout",
          "output_type": "stream",
          "text": [
            "{1: 1, 2: 4, 3: 9, 4: 16, 5: 25, 6: 36, 7: 49, 8: 64, 9: 81}\n"
          ]
        }
      ],
      "source": [
        "# Assume a list with numbers from 1 to 10 and then convert it into a dictionary where the key would be the numbers\n",
        "## of the list and the values would be the square of those numbers.\n",
        "\n",
        "l1 = [1,2,3,4,5,6,7,8,9]\n",
        "dic = {}\n",
        "\n",
        "for i in l1:\n",
        "    dic[i] = i**2\n",
        "print(dic)"
      ]
    },
    {
      "cell_type": "code",
      "execution_count": null,
      "id": "7d988f71",
      "metadata": {
        "id": "7d988f71",
        "outputId": "10a290c2-e7a5-45cc-98f1-aa2e99a88b33"
      },
      "outputs": [
        {
          "data": {
            "text/plain": [
              "{1: 1, 2: 4, 3: 9, 4: 16, 5: 25, 6: 36, 7: 49, 8: 64, 9: 81}"
            ]
          },
          "execution_count": 96,
          "metadata": {},
          "output_type": "execute_result"
        }
      ],
      "source": [
        "## Write a program to merge two given dictionary\n",
        "\n",
        "d1 = {1: 1, 2: 4, 3: 9, 4: 16}\n",
        "d2 = {5: 25, 6: 36, 7: 49, 8: 64, 9: 81}\n",
        "\n",
        "d3 = {}\n",
        "\n",
        "for i in d1:\n",
        "    d3[i] = d1[i]\n",
        "\n",
        "for j in d2 :\n",
        "    d3[j] = d2[j]\n",
        "\n",
        "d3"
      ]
    },
    {
      "cell_type": "code",
      "execution_count": null,
      "id": "710f4efc",
      "metadata": {
        "id": "710f4efc",
        "outputId": "80a222d0-de05-41a9-c834-50884ad8ee14"
      },
      "outputs": [
        {
          "name": "stdout",
          "output_type": "stream",
          "text": [
            "max item from dict : 500\n",
            "min item from dict : 100\n",
            "{'a': 500, 'b': 200, 'c': 100}\n"
          ]
        }
      ],
      "source": [
        "# Write a program to swap the key value pair for max and min values\n",
        "## Eg if the dict is like this {‘a’:1,’b’:2,’c’:3}\n",
        "### Output should be {a:3,b:2,c:1}\n",
        "\n",
        "d = {'a':100, 'b':200, 'c':500 }\n",
        "\n",
        "maxi = max(d.values())\n",
        "mini = min(d.values())\n",
        "\n",
        "for item in d :\n",
        "    if d[item] == maxi:\n",
        "        print('max item from dict :' , d[item])\n",
        "        break\n",
        "\n",
        "for j in d :\n",
        "    if d[j]==mini:\n",
        "        print('min item from dict :' , d[j])\n",
        "        break\n",
        "\n",
        "d[item] = mini\n",
        "d[j] = maxi\n",
        "\n",
        "print(d)"
      ]
    },
    {
      "cell_type": "code",
      "execution_count": null,
      "id": "3652e595",
      "metadata": {
        "id": "3652e595",
        "outputId": "c388fc3e-9cce-4318-a992-16deec03ea68"
      },
      "outputs": [
        {
          "name": "stdout",
          "output_type": "stream",
          "text": [
            "Enter the size of bins : 10\n"
          ]
        },
        {
          "data": {
            "image/png": "[encoded data removed]",
            "text/plain": [
              "<Figure size 720x504 with 1 Axes>"
            ]
          },
          "metadata": {
            "needs_background": "light"
          },
          "output_type": "display_data"
        }
      ],
      "source": [
        "# Write a program to find histogram of a given set of numbers. Take bin size from user.\n",
        "## Print the result in the form of a dictionary\n",
        "\n",
        "\n",
        "from matplotlib import pyplot as plt\n",
        "import numpy as np\n",
        "\n",
        "\n",
        " # Creating dataset\n",
        "a = np.array([62, 97, 15, 43, 56,\n",
        "              73, 51, 54, 11,\n",
        "              20, 51, 5, 79, 31,\n",
        "              27, 10])\n",
        "\n",
        "# Creating histogram, taking bin size from user\n",
        "l = int(input('Enter the size of bins : '))\n",
        "bins = [item for item in range(0,100,l)]\n",
        "fig, ax = plt.subplots(figsize =(10, 7))\n",
        "plt.xticks(bins, rotation ='vertical')\n",
        "ax.hist(a, bins = bins, color = 'coral')\n",
        "\n",
        "# Show plot\n",
        "plt.xticks(visible = True)\n",
        "plt.show()\n"
      ]
    },
    {
      "cell_type": "code",
      "execution_count": null,
      "id": "9df9611e",
      "metadata": {
        "id": "9df9611e",
        "outputId": "7e1f48db-f293-4b03-b6cd-72540c9e840c"
      },
      "outputs": [
        {
          "name": "stdout",
          "output_type": "stream",
          "text": [
            "Enter a string :Harry Potter fears none\n",
            "{'Upper': 2, 'Lower': 18}\n"
          ]
        }
      ],
      "source": [
        "# Write a function that accepts a string and returns the number of upper case chars and lower case chars as a dictionary\n",
        "\n",
        "string = input('Enter a string :')\n",
        "d = {}\n",
        "upper =0\n",
        "lower =0\n",
        "\n",
        "for item in string :\n",
        "    if (item.isupper()) :\n",
        "        upper = upper+1\n",
        "    elif (item.islower()):\n",
        "        lower = lower+1\n",
        "\n",
        "\n",
        "d = {'Upper' : upper, 'Lower' : lower}\n",
        "print(d)\n",
        ""
      ]
    },
    {
      "cell_type": "code",
      "execution_count": null,
      "id": "7c932bff",
      "metadata": {
        "id": "7c932bff",
        "outputId": "037f61c2-251c-431f-d9d7-1dce4b9027de"
      },
      "outputs": [
        {
          "data": {
            "text/plain": [
              "[[0, 0, 0, 0, 0, 1, 0, 0, 1, 1, 0, 0, 0, 0, 0, 0, 0, 0, 0, 0, 0, 1, 0, 0, 0],\n",
              " [1, 0, 0, 0, 0, 0, 0, 1, 0, 1, 0, 0, 0, 1, 0, 1, 1, 0, 1, 1, 1, 0, 1, 0, 0],\n",
              " [0, 1, 1, 0, 0, 0, 1, 0, 0, 1, 1, 0, 0, 0, 0, 0, 0, 0, 0, 0, 0, 0, 0, 0, 1],\n",
              " [0, 0, 0, 1, 1, 0, 0, 0, 0, 1, 0, 0, 1, 0, 0, 0, 0, 1, 0, 0, 0, 1, 0, 0, 0],\n",
              " [0, 0, 0, 0, 0, 0, 0, 0, 0, 0, 0, 1, 0, 0, 1, 0, 0, 0, 0, 0, 0, 0, 0, 1, 0]]"
            ]
          },
          "execution_count": 99,
          "metadata": {},
          "output_type": "execute_result"
        }
      ],
      "source": [
        "# Write a function that accepts a list of strings and performs Bag of words and convert it to numerical vectors.\n",
        "\n",
        "def bow(words) :\n",
        "    vocab = []\n",
        "\n",
        "    for i in words :\n",
        "        vocab.extend(i.split())\n",
        "\n",
        "    vocab = list(set(vocab))\n",
        "\n",
        "    vector2d = []\n",
        "    for w in words :\n",
        "        vector = []\n",
        "\n",
        "        for v in vocab :\n",
        "            vector.append(w.count(v))\n",
        "        vector2d.append(vector)\n",
        "    return vector2d\n",
        "\n",
        "words = ['Hello, how are you', 'I was waiting for you at the cafe last night',\n",
        "         'Are you planning to pursue MBA?', 'Hope you are working from home', 'Lets meet someday']\n",
        "\n",
        "bow(words)\n"
      ]
    },
    {
      "cell_type": "code",
      "execution_count": null,
      "id": "67142e36",
      "metadata": {
        "id": "67142e36",
        "outputId": "84fb31db-5bea-497f-eb7d-94bca23f6525"
      },
      "outputs": [
        {
          "name": "stdout",
          "output_type": "stream",
          "text": [
            "\n",
            "    1. Enter 1 to register\n",
            "    2. Enter 2 for Login\n",
            "    3. Enter 3 to exit\n",
            "    1\n",
            "Enter your name :Anushka\n",
            "Enter your email :a@gmail.com\n",
            "Enter your password :expert\n",
            "Registration Successful\n",
            "\n",
            "\n",
            "    1. Enter 1 to register\n",
            "    2. Enter 2 for Login\n",
            "    3. Enter 3 to exit\n",
            "    2\n",
            "Enter your email :a@gmail.com\n",
            "Enter your password :exp\n",
            "Incorrect Password\n"
          ]
        }
      ],
      "source": [
        "# Write a dummy program that can perform login and registration using a menu driven program\n",
        "\n",
        "db = {}\n",
        "\n",
        "def user_menu() :\n",
        "\n",
        "    user_input = input('''\n",
        "    1. Enter 1 to register\n",
        "    2. Enter 2 for Login\n",
        "    3. Enter 3 to exit\n",
        "    ''')\n",
        "\n",
        "    if user_input == '1' :\n",
        "        register()\n",
        "    elif user_input == '2' :\n",
        "        login()\n",
        "    elif user_input == '3' :\n",
        "        print('Bye')\n",
        "    else :\n",
        "        print('Invalid Input. Please try again!')\n",
        "\n",
        "def register() :\n",
        "    name = input('Enter your name :')\n",
        "    email = input('Enter your email :')\n",
        "    password = input('Enter your password :')\n",
        "\n",
        "    db[email] = [name, password]\n",
        "    print('Registration Successful')\n",
        "    print()\n",
        "    user_menu()\n",
        "\n",
        "def login() :\n",
        "    email = input('Enter your email :')\n",
        "    password = input('Enter your password :')\n",
        "    flag = 0\n",
        "\n",
        "    for d in db :\n",
        "        if email ==d :\n",
        "            flag = 1\n",
        "            if password == db[d][1] :\n",
        "                print('Welcome')\n",
        "            else :\n",
        "                print('Incorrect Password')\n",
        "    if flag ==0 :\n",
        "        print('Email not found')\n",
        "\n",
        "user_menu()\n",
        ""
      ]
    },
    {
      "cell_type": "code",
      "execution_count": null,
      "id": "f0acf750",
      "metadata": {
        "id": "f0acf750",
        "outputId": "e9d5b004-cd70-4c4b-ffca-73a37d6a87bc"
      },
      "outputs": [
        {
          "name": "stdout",
          "output_type": "stream",
          "text": [
            "Nearest Neighbour is : 3 at the distance of :  23.430749027719962\n"
          ]
        }
      ],
      "source": [
        "### Write a program that accepts neighbors(set of 2D co-ordinates) and a point(single 2D co-ordinate) and\n",
        "## tells nearest neighbor(in terms of euclidean distance)\n",
        "\n",
        "def knn(n, u):\n",
        "    def calculate_ed(c1, c2):\n",
        "        return((c1[0]-c2[0])**2 + (c1[1]-c2[1])**2) ** 0.5\n",
        "\n",
        "    dist = []\n",
        "    for i in n :\n",
        "        dist.append(calculate_ed(u, i))\n",
        "\n",
        "    n_index , distance = sorted(list(enumerate(dist)), key = lambda x:x[1])[0]\n",
        "    print('Nearest Neighbour is :' ,  n_index, 'at the distance of : ', distance)\n",
        "\n",
        "\n",
        "n = [[89,90], [34,15], [70, 63], [11,56]]\n",
        "\n",
        "u = [-7, 41]\n",
        "knn(n, u)"
      ]
    },
    {
      "cell_type": "code",
      "execution_count": null,
      "id": "4e956133",
      "metadata": {
        "id": "4e956133"
      },
      "outputs": [],
      "source": [
        "# Write a function that accepts a number and returns it’s factorial. You can not use any loop\n",
        "\n",
        "#we will make use of recurssion here\n",
        "\n",
        "def fact(num) :\n",
        "    if num ==1:\n",
        "        return 1\n",
        "    else:\n",
        "        return num*fact(num-1)\n",
        ""
      ]
    },
    {
      "cell_type": "code",
      "execution_count": null,
      "id": "f412f679",
      "metadata": {
        "id": "f412f679",
        "outputId": "544e914c-7551-4489-80d9-72cc05c37cf9"
      },
      "outputs": [
        {
          "data": {
            "text/plain": [
              "6"
            ]
          },
          "execution_count": 103,
          "metadata": {},
          "output_type": "execute_result"
        }
      ],
      "source": [
        "fact(3)"
      ]
    },
    {
      "cell_type": "markdown",
      "id": "50223048",
      "metadata": {
        "id": "50223048"
      },
      "source": [
        "### We will add some more programs shortly, with OOPs concept.\n",
        "\n",
        "    Till then.... HAPPY CODING :)"
      ]
    }
  ],
  "metadata": {
    "kernelspec": {
      "display_name": "Python 3 (ipykernel)",
      "language": "python",
      "name": "python3"
    },
    "language_info": {
      "codemirror_mode": {
        "name": "ipython",
        "version": 3
      },
      "file_extension": ".py",
      "mimetype": "text/x-python",
      "name": "python",
      "nbconvert_exporter": "python",
      "pygments_lexer": "ipython3",
      "version": "3.8.12"
    },
    "colab": {
      "provenance": [],
      "include_colab_link": true
    }
  },
  "nbformat": 4,
  "nbformat_minor": 5
}